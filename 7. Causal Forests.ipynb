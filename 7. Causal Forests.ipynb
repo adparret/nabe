{
 "cells": [
  {
   "cell_type": "code",
   "execution_count": 18,
   "metadata": {},
   "outputs": [],
   "source": [
    "list.of.packages = c('grf','ggplot2','quantregForest','fields')\n",
    "new.packages = list.of.packages[!(list.of.packages\n",
    "                     %in% installed.packages()[,\"Package\"])]\n",
    "if(length(new.packages)) install.packages(\n",
    "           new.packages, repos='http://cran.us.r-project.org')\n",
    "\n",
    "suppressWarnings(library(grf, quietly = TRUE, warn.conflicts = FALSE))\n",
    "suppressWarnings(library(quantregForest, quietly = TRUE, warn.conflicts = FALSE))\n",
    "suppressWarnings(library(ggplot2, quietly = TRUE, warn.conflicts = FALSE))\n",
    "suppressWarnings(library(fields, quietly = TRUE, warn.conflicts = FALSE))\n"
   ]
  },
  {
   "cell_type": "markdown",
   "metadata": {},
   "source": [
    "In this module we will see how to build a random forest for conditional average treatment effects (CATE) or conditional average treatment effects on the treated (CATT).\n",
    "\n",
    "Consider a slight modification of the example from the package documentation (https://github.com/swager/grf/tree/master/r-package/grf/R)\n",
    "\n",
    "Here we demonstrate why we need an \"honest\" estimation strategy and when CATT will be different from CATE\n",
    "\n",
    "The first example is the case where treatment is randomly assigned, but the effect of the treatment is a function of the first covariate"
   ]
  },
  {
   "cell_type": "code",
   "execution_count": 19,
   "metadata": {},
   "outputs": [],
   "source": [
    "# Generate data.\n",
    "set.seed(271828)\n",
    "n = 2000; p = 10\n",
    "X = matrix(rnorm(n*p), n, p)\n",
    "X.test = matrix(0, 101, p)\n",
    "X.test[,1] = seq(-2, 2, length.out = 101)\n",
    "# Perform treatment effect estimation.\n",
    "W = rbinom(n, 1, 0.5)\n",
    "Y = pmax(X[,1], 0) * W + X[,2] + pmin(X[,3], 0) + rnorm(n)"
   ]
  },
  {
   "cell_type": "markdown",
   "metadata": {},
   "source": [
    "A naive way of approaching this problem is to build the tree with the same sample from which we estimate the treatment effects. We can observe what happens in this case by setting \"honest\" to false in the causal_forest package"
   ]
  },
  {
   "cell_type": "code",
   "execution_count": 20,
   "metadata": {
    "scrolled": true
   },
   "outputs": [
    {
     "name": "stdout",
     "output_type": "stream",
     "text": [
      "GRF forest object of type causal_forest \n",
      "Number of trees:  4000 \n",
      "Number of training samples: 2000 \n",
      "Variable importance: \n",
      "    1     2     3     4     5     6     7     8     9    10 \n",
      "0.741 0.023 0.058 0.023 0.030 0.025 0.042 0.010 0.022 0.025 \n"
     ]
    }
   ],
   "source": [
    "te.forest = causal_forest(X, Y, W,\n",
    "                num.trees = 4000, honest=FALSE)\n",
    "# grow and estimate the treatment effects w/ the same sample\n",
    "print(te.forest)                                         \n",
    "# Examine the forest that we grew based on variable importance "
   ]
  },
  {
   "cell_type": "markdown",
   "metadata": {},
   "source": [
    "As should be the case the most important variable is $x_1$, although we are picking up more noise than would be ideal here. \n",
    "\n",
    "How did we do in terms of treatment effect estimation?"
   ]
  },
  {
   "cell_type": "code",
   "execution_count": 21,
   "metadata": {},
   "outputs": [
    {
     "data": {
      "image/png": "[encoded data removed]",
      "text/plain": [
       "plot without title"
      ]
     },
     "metadata": {},
     "output_type": "display_data"
    }
   ],
   "source": [
    "te.hat = predict(te.forest, X.test, estimate.variance = TRUE)           \n",
    "# predict CATE for range of x1\n",
    "\n",
    "sigma.hat = sqrt(te.hat$variance.estimates)\n",
    "plot(X.test[,1], te.hat$predictions, \n",
    "     ylim = range(te.hat$predictions + 1.96 * sigma.hat,\n",
    "                  te.hat$predictions - 1.96 * sigma.hat, 0, 2),\n",
    "                  xlab = \"X\", ylab = \"CATE\", type = \"l\")\n",
    "\n",
    "lines(X.test[,1], te.hat$predictions + 1.96 * sigma.hat, col = 1, lty = 2)\n",
    "lines(X.test[,1], te.hat$predictions - 1.96 * sigma.hat, col = 1, lty = 2)\n",
    "lines(X.test[,1], pmax(0, X.test[,1]), col = 2, lty = 1)\n",
    "legend(\"topleft\",c('truth','estimate','95% CI'),lty=c(1,1,2),\n",
    "       col=c('red','black','black'))"
   ]
  },
  {
   "cell_type": "markdown",
   "metadata": {},
   "source": [
    "In this example the estimate is not too bad, but we don't do a good job capturing the changepoint.\n",
    "\n",
    "Let's see what happens when we use the \"honest\" method. Let's build the tree and estimate the treatment effects with different subsamples."
   ]
  },
  {
   "cell_type": "code",
   "execution_count": 22,
   "metadata": {},
   "outputs": [
    {
     "name": "stdout",
     "output_type": "stream",
     "text": [
      "GRF forest object of type causal_forest \n",
      "Number of trees:  4000 \n",
      "Number of training samples: 2000 \n",
      "Variable importance: \n",
      "    1     2     3     4     5     6     7     8     9    10 \n",
      "0.692 0.032 0.049 0.033 0.035 0.033 0.041 0.023 0.030 0.032 \n"
     ]
    }
   ],
   "source": [
    "te.forest = causal_forest(X, Y, W,\n",
    "                num.trees = 4000)\n",
    "# grow and estimate the treatment effects w/ sample split\n",
    "print(te.forest)\n",
    "# Examine the forest that we grew based on variable importance "
   ]
  },
  {
   "cell_type": "code",
   "execution_count": 23,
   "metadata": {},
   "outputs": [
    {
     "data": {
      "image/png": "[encoded data removed]",
      "text/plain": [
       "plot without title"
      ]
     },
     "metadata": {},
     "output_type": "display_data"
    }
   ],
   "source": [
    "te.forest = causal_forest(X, Y, W, num.trees = 4000)\n",
    "# grow and estimate the treatment effects w/ the diff samples\n",
    "te.hat = predict(te.forest, X.test, estimate.variance = TRUE)\n",
    "# predict CATE for range of x1\n",
    "\n",
    "sigma.hat = sqrt(te.hat$variance.estimates)\n",
    "plot(X.test[,1], te.hat$predictions, ylim = range(\n",
    "            te.hat$predictions + 1.96 * sigma.hat, \n",
    "            te.hat$predictions - 1.96 * sigma.hat, 0, 2), \n",
    "            xlab = \"X\", ylab = \"CATE\", type = \"l\")\n",
    "\n",
    "lines(X.test[,1], te.hat$predictions + 1.96 * sigma.hat, col = 1, lty = 2)\n",
    "lines(X.test[,1], te.hat$predictions - 1.96 * sigma.hat, col = 1, lty = 2)\n",
    "lines(X.test[,1], pmax(0, X.test[,1]), col = 2, lty = 1)\n",
    "legend(\"topleft\",c('truth','estimate','95% CI'),lty=c(1,1,2),\n",
    "       col=c('red','black','black'))"
   ]
  },
  {
   "cell_type": "markdown",
   "metadata": {},
   "source": [
    "We pick up the changepoint much better here. You can also see how much tighter the confidence bands are in this case.\n",
    "\n",
    "In this example there isn't much of a difference between CATT and CATE as the treatment is randomly assigned."
   ]
  },
  {
   "cell_type": "code",
   "execution_count": 24,
   "metadata": {},
   "outputs": [
    {
     "name": "stdout",
     "output_type": "stream",
     "text": [
      "[1] \"CATE:\"\n"
     ]
    },
    {
     "data": {
      "text/html": [
       "<dl class=dl-horizontal>\n",
       "\t<dt>estimate</dt>\n",
       "\t\t<dd>0.377889366196088</dd>\n",
       "\t<dt>std.err</dt>\n",
       "\t\t<dd>0.045986938436387</dd>\n",
       "</dl>\n"
      ],
      "text/latex": [
       "\\begin{description*}\n",
       "\\item[estimate] 0.377889366196088\n",
       "\\item[std.err] 0.045986938436387\n",
       "\\end{description*}\n"
      ],
      "text/markdown": [
       "estimate\n",
       ":   0.377889366196088std.err\n",
       ":   0.045986938436387\n",
       "\n"
      ],
      "text/plain": [
       "  estimate    std.err \n",
       "0.37788937 0.04598694 "
      ]
     },
     "metadata": {},
     "output_type": "display_data"
    },
    {
     "name": "stdout",
     "output_type": "stream",
     "text": [
      "[1] \"CATT:\"\n"
     ]
    },
    {
     "data": {
      "text/html": [
       "<dl class=dl-horizontal>\n",
       "\t<dt>estimate</dt>\n",
       "\t\t<dd>0.376035348767355</dd>\n",
       "\t<dt>std.err</dt>\n",
       "\t\t<dd>0.0460813268364374</dd>\n",
       "</dl>\n"
      ],
      "text/latex": [
       "\\begin{description*}\n",
       "\\item[estimate] 0.376035348767355\n",
       "\\item[std.err] 0.0460813268364374\n",
       "\\end{description*}\n"
      ],
      "text/markdown": [
       "estimate\n",
       ":   0.376035348767355std.err\n",
       ":   0.0460813268364374\n",
       "\n"
      ],
      "text/plain": [
       "  estimate    std.err \n",
       "0.37603535 0.04608133 "
      ]
     },
     "metadata": {},
     "output_type": "display_data"
    }
   ],
   "source": [
    "# Estimate the conditional average treatment effect on the full sample (CATE).\n",
    "print('CATE:')\n",
    "estimate_average_effect(te.forest, target.sample = \"all\")\n",
    "# Estimate the conditional average treatment effect on the treated sample (CATT).\n",
    "print('CATT:')\n",
    "estimate_average_effect(te.forest, target.sample = \"treated\")\n"
   ]
  },
  {
   "cell_type": "markdown",
   "metadata": {},
   "source": [
    "We can make the probability of treatment be a function of an observable. In this case let the probability of treatment be a function of $x_2$"
   ]
  },
  {
   "cell_type": "code",
   "execution_count": 8,
   "metadata": {},
   "outputs": [],
   "source": [
    "\n",
    "# Generate data.\n",
    "set.seed(271828)\n",
    "n = 2000; p = 10\n",
    "X = matrix(rnorm(n*p), n, p)\n",
    "X.test = matrix(0, 101, p)\n",
    "X.test[,1] = seq(-2, 2, length.out = 101)\n",
    "# Perform treatment effect estimation.\n",
    "sel = 1/(1+exp(-X[,2]))\n",
    "W = rbinom(n, 1, sel)\n",
    "Y = pmax(X[,1], 0) * W + X[,2] + pmin(X[,3], 0) + rnorm(n)"
   ]
  },
  {
   "cell_type": "code",
   "execution_count": 9,
   "metadata": {},
   "outputs": [
    {
     "name": "stdout",
     "output_type": "stream",
     "text": [
      "[1] \"CATE:\"\n"
     ]
    },
    {
     "data": {
      "text/html": [
       "<dl class=dl-horizontal>\n",
       "\t<dt>estimate</dt>\n",
       "\t\t<dd>0.395148800260209</dd>\n",
       "\t<dt>std.err</dt>\n",
       "\t\t<dd>0.0516658472157111</dd>\n",
       "</dl>\n"
      ],
      "text/latex": [
       "\\begin{description*}\n",
       "\\item[estimate] 0.395148800260209\n",
       "\\item[std.err] 0.0516658472157111\n",
       "\\end{description*}\n"
      ],
      "text/markdown": [
       "estimate\n",
       ":   0.395148800260209std.err\n",
       ":   0.0516658472157111\n",
       "\n"
      ],
      "text/plain": [
       "  estimate    std.err \n",
       "0.39514880 0.05166585 "
      ]
     },
     "metadata": {},
     "output_type": "display_data"
    },
    {
     "name": "stdout",
     "output_type": "stream",
     "text": [
      "[1] \"CATT:\"\n"
     ]
    },
    {
     "data": {
      "text/html": [
       "<dl class=dl-horizontal>\n",
       "\t<dt>estimate</dt>\n",
       "\t\t<dd>0.419185538746803</dd>\n",
       "\t<dt>std.err</dt>\n",
       "\t\t<dd>0.0576707673333099</dd>\n",
       "</dl>\n"
      ],
      "text/latex": [
       "\\begin{description*}\n",
       "\\item[estimate] 0.419185538746803\n",
       "\\item[std.err] 0.0576707673333099\n",
       "\\end{description*}\n"
      ],
      "text/markdown": [
       "estimate\n",
       ":   0.419185538746803std.err\n",
       ":   0.0576707673333099\n",
       "\n"
      ],
      "text/plain": [
       "  estimate    std.err \n",
       "0.41918554 0.05767077 "
      ]
     },
     "metadata": {},
     "output_type": "display_data"
    }
   ],
   "source": [
    "te.forest = causal_forest(X, Y, W)          \n",
    "# grow the forest\n",
    "te.hat = predict(te.forest, X.test)       \n",
    "# the estimates are based on a subsample not included to grow the forest\n",
    "\n",
    "# Estimate the conditional average treatment effect on the full sample (CATE).\n",
    "print('CATE:')\n",
    "estimate_average_effect(te.forest, target.sample = \"all\")\n",
    "\n",
    "# Estimate the conditional average treatment effect on the treated sample (CATT).\n",
    "print('CATT:')\n",
    "estimate_average_effect(te.forest, target.sample = \"treated\")"
   ]
  },
  {
   "cell_type": "markdown",
   "metadata": {},
   "source": [
    "Here we can see how assignment effects the estimates for both CATT and CATE.\n",
    "\n",
    "In addition to heterogeneous effects, Forests can also be used to estimate quantile effects.\n",
    "\n",
    "Just to demonstrate how this works consider the very simple model:\n",
    "\n",
    "Let $y = x_1\\varepsilon$"
   ]
  },
  {
   "cell_type": "code",
   "execution_count": 10,
   "metadata": {},
   "outputs": [],
   "source": [
    "n = 2000; p = 20\n",
    "X = matrix(rnorm(n*p), n, p)\n",
    "X.test = matrix(0, 101, p)\n",
    "X.test[,1] = seq(-2, 2, length.out = 101)\n",
    "Y = X[,1] * rnorm(n)\n",
    "\n",
    "# Train a quantile forest.\n",
    "q.forest = quantile_forest(X, Y, quantiles=c(0.1, 0.5, 0.9))"
   ]
  },
  {
   "cell_type": "markdown",
   "metadata": {},
   "source": [
    "Now that we have quantile predictions for $\\tau = \\{0.1,0.5,0.9\\}$ we can plot these"
   ]
  },
  {
   "cell_type": "code",
   "execution_count": 17,
   "metadata": {
    "scrolled": false
   },
   "outputs": [
    {
     "data": {},
     "metadata": {},
     "output_type": "display_data"
    },
    {
     "data": {
      "image/png": "[encoded data removed]",
      "text/plain": [
       "plot without title"
      ]
     },
     "metadata": {},
     "output_type": "display_data"
    }
   ],
   "source": [
    "# Make predictions.\n",
    "q.hat = predict(q.forest, X.test)\n",
    "quantiles = data.frame(cbind(X.test[,1],q.hat))\n",
    "\n",
    "\n",
    "ggplot(quantiles,aes(X.test[,1],q.hat[,1]))+\n",
    "geom_line(aes(color='0.1')) + \n",
    "geom_line(aes(X.test[,1],q.hat[,2],color='0.5')) + \n",
    "geom_line(aes(X.test[,1],q.hat[,3],color='0.9')) +\n",
    "geom_abline(aes(color='Truth',intercept = 0, slope = qnorm(0.9)), linetype = 'dashed') +\n",
    "geom_abline(intercept = 0, slope = -qnorm(0.9), linetype = 'dashed') +\n",
    "geom_abline(intercept = 0, slope = qnorm(0.5), linetype = 'dashed') +\n",
    "labs(x = \"X\") +\n",
    "labs(y = \"Y\") +\n",
    "scale_colour_manual(\n",
    "    name = \"Estimated\\nQuantiles\", \n",
    "    values = c('0.1'=\"red\",'0.5'=\"blue\",'0.9'= \"forestgreen\",'Truth'='black'),\n",
    "    guide = guide_legend(\n",
    "    override.aes = list(linetype = c(1,1,1,2))))\n"
   ]
  },
  {
   "cell_type": "markdown",
   "metadata": {},
   "source": [
    "How accurate are our predictions for other quantiles? Let's check $\\tau  = \\{0.3,0.7\\}$"
   ]
  },
  {
   "cell_type": "code",
   "execution_count": 12,
   "metadata": {},
   "outputs": [
    {
     "data": {},
     "metadata": {},
     "output_type": "display_data"
    },
    {
     "data": {
      "image/png": "[encoded data removed]",
      "text/plain": [
       "plot without title"
      ]
     },
     "metadata": {},
     "output_type": "display_data"
    }
   ],
   "source": [
    "# Make predictions for different quantiles than those used in training.\n",
    "q.hat = predict(q.forest, X.test, quantiles=c(0.3, 0.7))\n",
    "quantiles = data.frame(cbind(X.test[,1],q.hat))\n",
    "\n",
    "ggplot(quantiles,aes(X.test[,1],q.hat[,1]))+\n",
    "geom_line(aes(color='0.3')) + \n",
    "geom_line(aes(X.test[,1],q.hat[,2],color='0.7')) + \n",
    "geom_abline(aes(color='Truth',intercept = 0, \n",
    "                slope = qnorm(0.7)), linetype = 'dashed') +\n",
    "geom_abline(intercept = 0, slope = -qnorm(0.7), linetype = 'dashed') +\n",
    "labs(x = \"X\") +\n",
    "labs(y = \"Y\") +\n",
    "scale_colour_manual(\n",
    "    name = \"Estimated\\nQuantiles\", \n",
    "    values = c('0.3'=\"red\",'0.7'=\"blue\",'Truth'='black'),\n",
    "    guide = guide_legend(\n",
    "    override.aes = list(linetype = c(1,1,2))))"
   ]
  },
  {
   "cell_type": "markdown",
   "metadata": {},
   "source": [
    "Looks pretty good! We capture the quantile effects even when we don't directly estimate them."
   ]
  },
  {
   "cell_type": "markdown",
   "metadata": {},
   "source": [
    "EXERCISE: \n",
    "\n",
    "Examine the effect of a randomly assigned treatment that varies with the sign of two covariates:\n",
    "\n",
    "$y = -1_{sign(x_1)=sign(x_2)}w + 1_{sign(x_1)\\neq sign(x_2)}w+min\\{x_3,0\\}+\\varepsilon$"
   ]
  },
  {
   "cell_type": "code",
   "execution_count": null,
   "metadata": {},
   "outputs": [],
   "source": []
  }
 ],
 "metadata": {
  "kernelspec": {
   "display_name": "R",
   "language": "R",
   "name": "ir"
  },
  "language_info": {
   "codemirror_mode": "r",
   "file_extension": ".r",
   "mimetype": "text/x-r-source",
   "name": "R",
   "pygments_lexer": "r",
   "version": "3.4.2"
  }
 },
 "nbformat": 4,
 "nbformat_minor": 2
}
