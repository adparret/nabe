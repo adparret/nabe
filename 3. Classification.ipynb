{
 "cells": [
  {
   "cell_type": "code",
   "execution_count": 20,
   "metadata": {
    "scrolled": false
   },
   "outputs": [],
   "source": [
    "list.of.packages = c('tidyverse', 'caret', 'gridExtra', 'glmnet','mgcv', \n",
    "                     'margins','pROC')\n",
    "new.packages = list.of.packages[!(list.of.packages %in% \n",
    "                                  installed.packages()[,\"Package\"])]\n",
    "if(length(new.packages)) install.packages(new.packages,\n",
    "                                      repos='http://cran.us.r-project.org')\n",
    "\n",
    "\n",
    "suppressWarnings(library(tidyverse, quietly = TRUE, warn.conflicts = FALSE))\n",
    "suppressWarnings(library(caret, quietly = TRUE, warn.conflicts = FALSE))\n",
    "suppressWarnings(library(mgcv, quietly = TRUE, warn.conflicts = FALSE))\n",
    "suppressWarnings(require(gridExtra, quietly = TRUE, warn.conflicts = FALSE))\n",
    "suppressWarnings(library(glmnet, quietly = TRUE, warn.conflicts = FALSE))\n",
    "suppressWarnings(library(margins, quietly = TRUE, warn.conflicts = FALSE))\n",
    "suppressWarnings(library(pROC, quietly = TRUE, warn.conflicts = FALSE))\n",
    "    \n",
    "set.seed(2718281)\n"
   ]
  },
  {
   "cell_type": "markdown",
   "metadata": {},
   "source": [
    "In this module we will see how to classify credit card defaults based on observable characteristics. The data is from Taiwan in 2005.\n",
    "\n",
    "The covariates we have are:\n",
    "\n",
    "| Covariate Name | Description                         |\n",
    "|----------------|-------------------------------------|\n",
    "| LIMIT_BAL      | Amt of credit available             |\n",
    "| SEX            | Indicator for sex                   |\n",
    "| AGE            | Age                                 |\n",
    "| PAY            | Denotes deliquency in past periods  |                     \n",
    "| BILL_AMT       | Denotes amount due in past periods  |\n",
    "| PAY_AMT        | Denotes amount paid in past periods |\n",
    "| educ           | Indicator for Education Level       |\n",
    "| marr           | Indicator for marital status        |\n",
    "| default        | Indicator for default status        |\n"
   ]
  },
  {
   "cell_type": "code",
   "execution_count": 2,
   "metadata": {},
   "outputs": [
    {
     "data": {
      "text/html": [
       "<table>\n",
       "<thead><tr><th scope=col>LIMIT_BAL</th><th scope=col>SEX</th><th scope=col>AGE</th><th scope=col>PAY_0</th><th scope=col>PAY_2</th><th scope=col>PAY_3</th><th scope=col>PAY_4</th><th scope=col>PAY_5</th><th scope=col>PAY_6</th><th scope=col>BILL_AMT1</th></tr></thead>\n",
       "<tbody>\n",
       "\t<tr><td> 20000</td><td>1     </td><td>24    </td><td> 2    </td><td> 2    </td><td>-1    </td><td>-1    </td><td>-2    </td><td>-2    </td><td>  3913</td></tr>\n",
       "\t<tr><td>120000</td><td>1     </td><td>26    </td><td>-1    </td><td> 2    </td><td> 0    </td><td> 0    </td><td> 0    </td><td> 2    </td><td>  2682</td></tr>\n",
       "\t<tr><td> 90000</td><td>1     </td><td>34    </td><td> 0    </td><td> 0    </td><td> 0    </td><td> 0    </td><td> 0    </td><td> 0    </td><td> 29239</td></tr>\n",
       "\t<tr><td> 50000</td><td>1     </td><td>37    </td><td> 0    </td><td> 0    </td><td> 0    </td><td> 0    </td><td> 0    </td><td> 0    </td><td> 46990</td></tr>\n",
       "\t<tr><td> 50000</td><td>0     </td><td>57    </td><td>-1    </td><td> 0    </td><td>-1    </td><td> 0    </td><td> 0    </td><td> 0    </td><td>  8617</td></tr>\n",
       "\t<tr><td> 50000</td><td>0     </td><td>37    </td><td> 0    </td><td> 0    </td><td> 0    </td><td> 0    </td><td> 0    </td><td> 0    </td><td> 64400</td></tr>\n",
       "\t<tr><td>500000</td><td>0     </td><td>29    </td><td> 0    </td><td> 0    </td><td> 0    </td><td> 0    </td><td> 0    </td><td> 0    </td><td>367965</td></tr>\n",
       "\t<tr><td>100000</td><td>1     </td><td>23    </td><td> 0    </td><td>-1    </td><td>-1    </td><td> 0    </td><td> 0    </td><td>-1    </td><td> 11876</td></tr>\n",
       "\t<tr><td>140000</td><td>1     </td><td>28    </td><td> 0    </td><td> 0    </td><td> 2    </td><td> 0    </td><td> 0    </td><td> 0    </td><td> 11285</td></tr>\n",
       "\t<tr><td> 20000</td><td>0     </td><td>35    </td><td>-2    </td><td>-2    </td><td>-2    </td><td>-2    </td><td>-1    </td><td>-1    </td><td>     0</td></tr>\n",
       "</tbody>\n",
       "</table>\n"
      ],
      "text/latex": [
       "\\begin{tabular}{r|llllllllll}\n",
       " LIMIT\\_BAL & SEX & AGE & PAY\\_0 & PAY\\_2 & PAY\\_3 & PAY\\_4 & PAY\\_5 & PAY\\_6 & BILL\\_AMT1\\\\\n",
       "\\hline\n",
       "\t  20000 & 1      & 24     &  2     &  2     & -1     & -1     & -2     & -2     &   3913\\\\\n",
       "\t 120000 & 1      & 26     & -1     &  2     &  0     &  0     &  0     &  2     &   2682\\\\\n",
       "\t  90000 & 1      & 34     &  0     &  0     &  0     &  0     &  0     &  0     &  29239\\\\\n",
       "\t  50000 & 1      & 37     &  0     &  0     &  0     &  0     &  0     &  0     &  46990\\\\\n",
       "\t  50000 & 0      & 57     & -1     &  0     & -1     &  0     &  0     &  0     &   8617\\\\\n",
       "\t  50000 & 0      & 37     &  0     &  0     &  0     &  0     &  0     &  0     &  64400\\\\\n",
       "\t 500000 & 0      & 29     &  0     &  0     &  0     &  0     &  0     &  0     & 367965\\\\\n",
       "\t 100000 & 1      & 23     &  0     & -1     & -1     &  0     &  0     & -1     &  11876\\\\\n",
       "\t 140000 & 1      & 28     &  0     &  0     &  2     &  0     &  0     &  0     &  11285\\\\\n",
       "\t  20000 & 0      & 35     & -2     & -2     & -2     & -2     & -1     & -1     &      0\\\\\n",
       "\\end{tabular}\n"
      ],
      "text/markdown": [
       "\n",
       "LIMIT_BAL | SEX | AGE | PAY_0 | PAY_2 | PAY_3 | PAY_4 | PAY_5 | PAY_6 | BILL_AMT1 | \n",
       "|---|---|---|---|---|---|---|---|---|---|\n",
       "|  20000 | 1      | 24     |  2     |  2     | -1     | -1     | -2     | -2     |   3913 | \n",
       "| 120000 | 1      | 26     | -1     |  2     |  0     |  0     |  0     |  2     |   2682 | \n",
       "|  90000 | 1      | 34     |  0     |  0     |  0     |  0     |  0     |  0     |  29239 | \n",
       "|  50000 | 1      | 37     |  0     |  0     |  0     |  0     |  0     |  0     |  46990 | \n",
       "|  50000 | 0      | 57     | -1     |  0     | -1     |  0     |  0     |  0     |   8617 | \n",
       "|  50000 | 0      | 37     |  0     |  0     |  0     |  0     |  0     |  0     |  64400 | \n",
       "| 500000 | 0      | 29     |  0     |  0     |  0     |  0     |  0     |  0     | 367965 | \n",
       "| 100000 | 1      | 23     |  0     | -1     | -1     |  0     |  0     | -1     |  11876 | \n",
       "| 140000 | 1      | 28     |  0     |  0     |  2     |  0     |  0     |  0     |  11285 | \n",
       "|  20000 | 0      | 35     | -2     | -2     | -2     | -2     | -1     | -1     |      0 | \n",
       "\n",
       "\n"
      ],
      "text/plain": [
       "   LIMIT_BAL SEX AGE PAY_0 PAY_2 PAY_3 PAY_4 PAY_5 PAY_6 BILL_AMT1\n",
       "1   20000    1   24   2     2    -1    -1    -2    -2      3913   \n",
       "2  120000    1   26  -1     2     0     0     0     2      2682   \n",
       "3   90000    1   34   0     0     0     0     0     0     29239   \n",
       "4   50000    1   37   0     0     0     0     0     0     46990   \n",
       "5   50000    0   57  -1     0    -1     0     0     0      8617   \n",
       "6   50000    0   37   0     0     0     0     0     0     64400   \n",
       "7  500000    0   29   0     0     0     0     0     0    367965   \n",
       "8  100000    1   23   0    -1    -1     0     0    -1     11876   \n",
       "9  140000    1   28   0     0     2     0     0     0     11285   \n",
       "10  20000    0   35  -2    -2    -2    -2    -1    -1         0   "
      ]
     },
     "metadata": {},
     "output_type": "display_data"
    },
    {
     "name": "stdout",
     "output_type": "stream",
     "text": [
      "Dataset dimesions:  30000 31"
     ]
    }
   ],
   "source": [
    "defaults = read.csv('default.csv')   \n",
    "# Reads csv files into R\n",
    "defaults[1:10,1:10]                               \n",
    "# Examine the first few rows of our data                        \n",
    "cat('Dataset dimesions: ', dim(defaults))            \n",
    "# Returns the dimension of the dataset \n",
    "defaults$default = as.factor(defaults$default)"
   ]
  },
  {
   "cell_type": "markdown",
   "metadata": {},
   "source": [
    "One thing we have to be careful about in classification is how we split the sample to preserve the balance of the data.\n",
    "\n",
    "Let's see what proportion of the sample actually defaults."
   ]
  },
  {
   "cell_type": "code",
   "execution_count": 3,
   "metadata": {},
   "outputs": [
    {
     "data": {},
     "metadata": {},
     "output_type": "display_data"
    },
    {
     "name": "stdout",
     "output_type": "stream",
     "text": [
      "proportion of defaults:  0.2840267"
     ]
    },
    {
     "data": {
      "image/png": "[encoded data removed]",
      "text/plain": [
       "plot without title"
      ]
     },
     "metadata": {},
     "output_type": "display_data"
    }
   ],
   "source": [
    "ggplot(defaults, aes(default)) + geom_bar()\n",
    "cat('proportion of defaults: ', sum(defaults$default==1)/sum(defaults$default==0))"
   ]
  },
  {
   "cell_type": "markdown",
   "metadata": {},
   "source": [
    "Looks like a bit more than $1/4$ of the sample defaults\n",
    "\n",
    "As we did before, let's split our data into train-test-validation sets, but this time we are going to use the built in 'createDataPartition' function. This function will automatically balance the splits based on a specified covariate. In this case we are balancing on $default$."
   ]
  },
  {
   "cell_type": "code",
   "execution_count": 4,
   "metadata": {},
   "outputs": [],
   "source": [
    "## Splitting the data\n",
    "trainIndex = createDataPartition(defaults$default, p = .9,\n",
    "                                  list = FALSE, \n",
    "                                  times = 1)\n",
    "train_test = defaults[trainIndex,]\n",
    "validation = defaults[-trainIndex,]\n"
   ]
  },
  {
   "cell_type": "markdown",
   "metadata": {},
   "source": [
    "To get started we can train a very simple classifier based only on $SEX$, $AGE$, $EDUC$, $MARR$, and $LIMIT$_$BAL$\n",
    "\n",
    "The simple classifier will use logistic regression. This is very easy to implement in R. The only changes we have to make is to specify \"glm\" instead of \"lm\" and change the \"family\" to binomial.\n",
    "\n",
    "Let's examine the model."
   ]
  },
  {
   "cell_type": "code",
   "execution_count": 5,
   "metadata": {
    "scrolled": false
   },
   "outputs": [
    {
     "data": {
      "text/plain": [
       "\n",
       "Call:\n",
       "glm(formula = default ~ ., family = \"binomial\", data = train_tmp)\n",
       "\n",
       "Deviance Residuals: \n",
       "    Min       1Q   Median       3Q      Max  \n",
       "-0.9856  -0.7658  -0.6458  -0.4219   2.6765  \n",
       "\n",
       "Coefficients:\n",
       "              Estimate Std. Error z value Pr(>|z|)    \n",
       "(Intercept) -1.327e+01  1.015e+02  -0.131   0.8960    \n",
       "SEX         -1.741e-01  3.407e-02  -5.110 3.22e-07 ***\n",
       "AGE          3.600e-03  2.077e-03   1.733   0.0831 .  \n",
       "LIMIT_BAL   -3.237e-06  1.564e-07 -20.694  < 2e-16 ***\n",
       "educ.._1     1.105e+01  1.015e+02   0.109   0.9133    \n",
       "educ.._2     1.112e+01  1.015e+02   0.110   0.9128    \n",
       "educ.._3     1.112e+01  1.015e+02   0.110   0.9128    \n",
       "educ.._4     9.935e+00  1.015e+02   0.098   0.9220    \n",
       "educ.._5     9.866e+00  1.015e+02   0.097   0.9226    \n",
       "educ.._6     1.037e+01  1.015e+02   0.102   0.9187    \n",
       "marr.._1     1.492e+00  6.024e-01   2.477   0.0132 *  \n",
       "marr.._2     1.307e+00  6.026e-01   2.169   0.0301 *  \n",
       "marr.._3     1.482e+00  6.197e-01   2.392   0.0168 *  \n",
       "---\n",
       "Signif. codes:  0 '***' 0.001 '**' 0.01 '*' 0.05 '.' 0.1 ' ' 1\n",
       "\n",
       "(Dispersion parameter for binomial family taken to be 1)\n",
       "\n",
       "    Null deviance: 22832  on 21601  degrees of freedom\n",
       "Residual deviance: 22157  on 21589  degrees of freedom\n",
       "AIC: 22183\n",
       "\n",
       "Number of Fisher Scoring iterations: 11\n"
      ]
     },
     "metadata": {},
     "output_type": "display_data"
    }
   ],
   "source": [
    "train1 = cbind(train_test[c('default','SEX','AGE','LIMIT_BAL')],\n",
    "               select(train_test,starts_with('educ')),\n",
    "           select(train_test,starts_with('marr')))\n",
    "\n",
    "# Lets just do a single split here into train-test\n",
    "\n",
    "tmp = createDataPartition(train1$default, p = .8,\n",
    "                                  list = FALSE, \n",
    "                                  times = 1)\n",
    "train_tmp = train1[tmp,]\n",
    "test_tmp = train1[-tmp,]\n",
    "\n",
    "\n",
    "Logistic = glm(default~., data= train_tmp, family='binomial')       \n",
    "#GLM (generalized linear model) with family=binomial\n",
    "\n",
    "summary(Logistic)"
   ]
  },
  {
   "cell_type": "markdown",
   "metadata": {},
   "source": [
    "We can get average marginal effects for all covariates in the model using the margins package. \n",
    "\n",
    "The most significant corresponds to the balance limit on the account. "
   ]
  },
  {
   "cell_type": "code",
   "execution_count": 6,
   "metadata": {},
   "outputs": [
    {
     "data": {
      "text/html": [
       "<table>\n",
       "<thead><tr><th scope=col>factor</th><th scope=col>AME</th><th scope=col>SE</th><th scope=col>z</th><th scope=col>p</th><th scope=col>lower</th><th scope=col>upper</th></tr></thead>\n",
       "<tbody>\n",
       "\t<tr><td>AGE          </td><td> 6.019701e-04</td><td>3.472710e-04 </td><td>  1.73343051 </td><td>8.301918e-02 </td><td>-7.866850e-05</td><td> 1.282609e-03</td></tr>\n",
       "\t<tr><td>educ.._1     </td><td> 1.848641e+00</td><td>1.697729e+01 </td><td>  0.10888904 </td><td>9.132905e-01 </td><td>-3.142624e+01</td><td> 3.512353e+01</td></tr>\n",
       "\t<tr><td>educ.._2     </td><td> 1.859216e+00</td><td>1.697730e+01 </td><td>  0.10951193 </td><td>9.127965e-01 </td><td>-3.141567e+01</td><td> 3.513410e+01</td></tr>\n",
       "\t<tr><td>educ.._3     </td><td> 1.859420e+00</td><td>1.697729e+01 </td><td>  0.10952393 </td><td>9.127869e-01 </td><td>-3.141546e+01</td><td> 3.513430e+01</td></tr>\n",
       "\t<tr><td>educ.._4     </td><td> 1.661387e+00</td><td>1.697744e+01 </td><td>  0.09785850 </td><td>9.220447e-01 </td><td>-3.161379e+01</td><td> 3.493656e+01</td></tr>\n",
       "\t<tr><td>educ.._5     </td><td> 1.649890e+00</td><td>1.697759e+01 </td><td>  0.09718048 </td><td>9.225831e-01 </td><td>-3.162557e+01</td><td> 3.492535e+01</td></tr>\n",
       "\t<tr><td>educ.._6     </td><td> 1.733694e+00</td><td>1.697749e+01 </td><td>  0.10211720 </td><td>9.186636e-01 </td><td>-3.154157e+01</td><td> 3.500896e+01</td></tr>\n",
       "\t<tr><td>LIMIT_BAL    </td><td>-5.413791e-07</td><td>2.581618e-08 </td><td>-20.97053200 </td><td>1.218934e-97 </td><td>-5.919779e-07</td><td>-4.907803e-07</td></tr>\n",
       "\t<tr><td>marr.._1     </td><td> 2.495719e-01</td><td>1.007226e-01 </td><td>  2.47781528 </td><td>1.321896e-02 </td><td> 5.215931e-02</td><td> 4.469845e-01</td></tr>\n",
       "\t<tr><td>marr.._2     </td><td> 2.185742e-01</td><td>1.007614e-01 </td><td>  2.16922539 </td><td>3.006558e-02 </td><td> 2.108547e-02</td><td> 4.160629e-01</td></tr>\n",
       "\t<tr><td>marr.._3     </td><td> 2.478541e-01</td><td>1.036028e-01 </td><td>  2.39235081 </td><td>1.674083e-02 </td><td> 4.479647e-02</td><td> 4.509118e-01</td></tr>\n",
       "\t<tr><td>SEX          </td><td>-2.911316e-02</td><td>5.688069e-03 </td><td> -5.11828493 </td><td>3.083266e-07 </td><td>-4.026157e-02</td><td>-1.796475e-02</td></tr>\n",
       "</tbody>\n",
       "</table>\n"
      ],
      "text/latex": [
       "\\begin{tabular}{r|lllllll}\n",
       " factor & AME & SE & z & p & lower & upper\\\\\n",
       "\\hline\n",
       "\t AGE           &  6.019701e-04 & 3.472710e-04  &   1.73343051  & 8.301918e-02  & -7.866850e-05 &  1.282609e-03\\\\\n",
       "\t educ..\\_1    &  1.848641e+00 & 1.697729e+01  &   0.10888904  & 9.132905e-01  & -3.142624e+01 &  3.512353e+01\\\\\n",
       "\t educ..\\_2    &  1.859216e+00 & 1.697730e+01  &   0.10951193  & 9.127965e-01  & -3.141567e+01 &  3.513410e+01\\\\\n",
       "\t educ..\\_3    &  1.859420e+00 & 1.697729e+01  &   0.10952393  & 9.127869e-01  & -3.141546e+01 &  3.513430e+01\\\\\n",
       "\t educ..\\_4    &  1.661387e+00 & 1.697744e+01  &   0.09785850  & 9.220447e-01  & -3.161379e+01 &  3.493656e+01\\\\\n",
       "\t educ..\\_5    &  1.649890e+00 & 1.697759e+01  &   0.09718048  & 9.225831e-01  & -3.162557e+01 &  3.492535e+01\\\\\n",
       "\t educ..\\_6    &  1.733694e+00 & 1.697749e+01  &   0.10211720  & 9.186636e-01  & -3.154157e+01 &  3.500896e+01\\\\\n",
       "\t LIMIT\\_BAL   & -5.413791e-07 & 2.581618e-08  & -20.97053200  & 1.218934e-97  & -5.919779e-07 & -4.907803e-07\\\\\n",
       "\t marr..\\_1    &  2.495719e-01 & 1.007226e-01  &   2.47781528  & 1.321896e-02  &  5.215931e-02 &  4.469845e-01\\\\\n",
       "\t marr..\\_2    &  2.185742e-01 & 1.007614e-01  &   2.16922539  & 3.006558e-02  &  2.108547e-02 &  4.160629e-01\\\\\n",
       "\t marr..\\_3    &  2.478541e-01 & 1.036028e-01  &   2.39235081  & 1.674083e-02  &  4.479647e-02 &  4.509118e-01\\\\\n",
       "\t SEX           & -2.911316e-02 & 5.688069e-03  &  -5.11828493  & 3.083266e-07  & -4.026157e-02 & -1.796475e-02\\\\\n",
       "\\end{tabular}\n"
      ],
      "text/markdown": [
       "\n",
       "factor | AME | SE | z | p | lower | upper | \n",
       "|---|---|---|---|---|---|---|---|---|---|---|---|\n",
       "| AGE           |  6.019701e-04 | 3.472710e-04  |   1.73343051  | 8.301918e-02  | -7.866850e-05 |  1.282609e-03 | \n",
       "| educ.._1      |  1.848641e+00 | 1.697729e+01  |   0.10888904  | 9.132905e-01  | -3.142624e+01 |  3.512353e+01 | \n",
       "| educ.._2      |  1.859216e+00 | 1.697730e+01  |   0.10951193  | 9.127965e-01  | -3.141567e+01 |  3.513410e+01 | \n",
       "| educ.._3      |  1.859420e+00 | 1.697729e+01  |   0.10952393  | 9.127869e-01  | -3.141546e+01 |  3.513430e+01 | \n",
       "| educ.._4      |  1.661387e+00 | 1.697744e+01  |   0.09785850  | 9.220447e-01  | -3.161379e+01 |  3.493656e+01 | \n",
       "| educ.._5      |  1.649890e+00 | 1.697759e+01  |   0.09718048  | 9.225831e-01  | -3.162557e+01 |  3.492535e+01 | \n",
       "| educ.._6      |  1.733694e+00 | 1.697749e+01  |   0.10211720  | 9.186636e-01  | -3.154157e+01 |  3.500896e+01 | \n",
       "| LIMIT_BAL     | -5.413791e-07 | 2.581618e-08  | -20.97053200  | 1.218934e-97  | -5.919779e-07 | -4.907803e-07 | \n",
       "| marr.._1      |  2.495719e-01 | 1.007226e-01  |   2.47781528  | 1.321896e-02  |  5.215931e-02 |  4.469845e-01 | \n",
       "| marr.._2      |  2.185742e-01 | 1.007614e-01  |   2.16922539  | 3.006558e-02  |  2.108547e-02 |  4.160629e-01 | \n",
       "| marr.._3      |  2.478541e-01 | 1.036028e-01  |   2.39235081  | 1.674083e-02  |  4.479647e-02 |  4.509118e-01 | \n",
       "| SEX           | -2.911316e-02 | 5.688069e-03  |  -5.11828493  | 3.083266e-07  | -4.026157e-02 | -1.796475e-02 | \n",
       "\n",
       "\n"
      ],
      "text/plain": [
       "   factor    AME           SE           z            p            lower        \n",
       "1  AGE        6.019701e-04 3.472710e-04   1.73343051 8.301918e-02 -7.866850e-05\n",
       "2  educ.._1   1.848641e+00 1.697729e+01   0.10888904 9.132905e-01 -3.142624e+01\n",
       "3  educ.._2   1.859216e+00 1.697730e+01   0.10951193 9.127965e-01 -3.141567e+01\n",
       "4  educ.._3   1.859420e+00 1.697729e+01   0.10952393 9.127869e-01 -3.141546e+01\n",
       "5  educ.._4   1.661387e+00 1.697744e+01   0.09785850 9.220447e-01 -3.161379e+01\n",
       "6  educ.._5   1.649890e+00 1.697759e+01   0.09718048 9.225831e-01 -3.162557e+01\n",
       "7  educ.._6   1.733694e+00 1.697749e+01   0.10211720 9.186636e-01 -3.154157e+01\n",
       "8  LIMIT_BAL -5.413791e-07 2.581618e-08 -20.97053200 1.218934e-97 -5.919779e-07\n",
       "9  marr.._1   2.495719e-01 1.007226e-01   2.47781528 1.321896e-02  5.215931e-02\n",
       "10 marr.._2   2.185742e-01 1.007614e-01   2.16922539 3.006558e-02  2.108547e-02\n",
       "11 marr.._3   2.478541e-01 1.036028e-01   2.39235081 1.674083e-02  4.479647e-02\n",
       "12 SEX       -2.911316e-02 5.688069e-03  -5.11828493 3.083266e-07 -4.026157e-02\n",
       "   upper        \n",
       "1   1.282609e-03\n",
       "2   3.512353e+01\n",
       "3   3.513410e+01\n",
       "4   3.513430e+01\n",
       "5   3.493656e+01\n",
       "6   3.492535e+01\n",
       "7   3.500896e+01\n",
       "8  -4.907803e-07\n",
       "9   4.469845e-01\n",
       "10  4.160629e-01\n",
       "11  4.509118e-01\n",
       "12 -1.796475e-02"
      ]
     },
     "metadata": {},
     "output_type": "display_data"
    }
   ],
   "source": [
    "m = suppressWarnings(margins(Logistic))\n",
    "summary(m)"
   ]
  },
  {
   "cell_type": "markdown",
   "metadata": {},
   "source": [
    "Additionally, we can visualize these effects. Let's just examine the effects over the range of $LIMIT$_$BAL$"
   ]
  },
  {
   "cell_type": "code",
   "execution_count": 7,
   "metadata": {},
   "outputs": [
    {
     "data": {
      "image/png": "[encoded data removed]",
      "text/plain": [
       "plot without title"
      ]
     },
     "metadata": {},
     "output_type": "display_data"
    }
   ],
   "source": [
    "cplot(Logistic, \"LIMIT_BAL\")"
   ]
  },
  {
   "cell_type": "markdown",
   "metadata": {},
   "source": [
    "As we expect the probability of default decreases, but at a decreasing rate with the balance limit.\n",
    "\n",
    "Now let's go ahead and look at the ROC (Receiver operating characteristics) curve. This is really just a way to graph the confusion matrix. The idea is to use sensitivity = True Positives / (True Positives + False Negatives) and specificity = True Negative / (True Negative + False Positive) and plot the tradeoff.\n",
    "\n",
    "Depending on the scenario in question one may prefer one over the other, but in general one wants to maximize the AUC (area under the curve)."
   ]
  },
  {
   "cell_type": "code",
   "execution_count": 8,
   "metadata": {},
   "outputs": [
    {
     "name": "stdout",
     "output_type": "stream",
     "text": [
      "Training AUC:  0.6228948\n",
      " Test AUC:  0.6371498"
     ]
    },
    {
     "data": {
      "image/png": "[encoded data removed]",
      "text/plain": [
       "plot without title"
      ]
     },
     "metadata": {},
     "output_type": "display_data"
    }
   ],
   "source": [
    "ROC = roc(train_tmp$default,Logistic$fitted.values)\n",
    "plot(ROC)\n",
    "cat('Training AUC: ', auc(ROC))\n",
    "\n",
    "ROC = roc(test_tmp$default,predict(Logistic,newdata = test_tmp))\n",
    "cat('\\n Test AUC: ', auc(ROC))"
   ]
  },
  {
   "cell_type": "markdown",
   "metadata": {},
   "source": [
    "The simple classifier doesn't do too poorly. Training and test set performance are about the same, but we should be able to obtain better performance by including the remaining covariates.\n",
    "\n",
    "Add the covariates relating to past payment and bill balances using the select() command and run the new regression model."
   ]
  },
  {
   "cell_type": "code",
   "execution_count": 9,
   "metadata": {
    "scrolled": false
   },
   "outputs": [],
   "source": [
    "train2 = cbind(train1,select(train_test,starts_with('PAY')),\n",
    "               select(train_test,starts_with('BILL')))\n",
    "\n",
    "tmp = createDataPartition(train2$default, p = .8,\n",
    "                                  list = FALSE, \n",
    "                                  times = 1)\n",
    "train_tmp = train2[tmp,]\n",
    "test_tmp = train2[-tmp,]\n",
    "\n",
    "Logistic = glm(default~., data= train_tmp, family='binomial')"
   ]
  },
  {
   "cell_type": "markdown",
   "metadata": {},
   "source": [
    "How does our ROC improve by adding these covariates?"
   ]
  },
  {
   "cell_type": "code",
   "execution_count": 10,
   "metadata": {},
   "outputs": [
    {
     "name": "stdout",
     "output_type": "stream",
     "text": [
      "Training AUC:  0.7283954\n",
      " Test AUC:  0.7147754"
     ]
    },
    {
     "data": {
      "image/png": "[encoded data removed]",
      "text/plain": [
       "plot without title"
      ]
     },
     "metadata": {},
     "output_type": "display_data"
    }
   ],
   "source": [
    "ROC = roc(train_tmp$default,Logistic$fitted.values)\n",
    "plot(ROC)\n",
    "cat('Training AUC: ', auc(ROC))\n",
    "\n",
    "ROC = roc(test_tmp$default,predict(Logistic,newdata = test_tmp))\n",
    "cat('\\n Test AUC: ', auc(ROC))\n"
   ]
  },
  {
   "cell_type": "markdown",
   "metadata": {},
   "source": [
    "Looks like adding the additional information helped quite a bit. However, we may be interested in other functional forms for the model.\n",
    "\n",
    "There are many options for flexible functional forms. The most common way is to add higher order terms (polynomials) as we did in the first module.\n",
    "\n",
    "Another common method is to use a cubic spline. \n",
    "\n",
    "Let's consider a very simple extension of the previous model. The only difference will be the $LIMIT$_$BAL$ variable enters the model as an argument of an unknown function. The extension of GLM in this form is called a GAM (Generalized Additive Model)\n",
    "\n",
    "In R we can use the GAM package to estimate these types of models. One thing to keep in mind is the formula must be specified here. The model we are looking at is exactly the same as the previous one except we apply a cubic spline to $LIMIT$_$BAL$. This is denoted by \"s()\" with the option set to \"cr\"."
   ]
  },
  {
   "cell_type": "code",
   "execution_count": 11,
   "metadata": {},
   "outputs": [
    {
     "data": {
      "text/plain": [
       "\n",
       "Family: binomial \n",
       "Link function: logit \n",
       "\n",
       "Formula:\n",
       "default ~ SEX + AGE + educ.._1 + educ.._2 + educ.._3 + educ.._4 + \n",
       "    educ.._5 + educ.._6 + marr.._1 + marr.._2 + marr.._3 + PAY_0 + \n",
       "    PAY_2 + PAY_3 + PAY_4 + PAY_5 + PAY_6 + PAY_AMT1 + PAY_AMT2 + \n",
       "    PAY_AMT3 + PAY_AMT4 + PAY_AMT5 + PAY_AMT6 + BILL_AMT1 + BILL_AMT2 + \n",
       "    BILL_AMT3 + BILL_AMT4 + BILL_AMT5 + BILL_AMT6 + s(LIMIT_BAL, \n",
       "    bs = \"cr\")\n",
       "\n",
       "Parametric coefficients:\n",
       "              Estimate Std. Error z value Pr(>|z|)    \n",
       "(Intercept) -2.389e+01  1.683e+04  -0.001  0.99887    \n",
       "SEX         -9.630e-02  3.654e-02  -2.636  0.00839 ** \n",
       "AGE          4.510e-03  2.199e-03   2.051  0.04026 *  \n",
       "educ.._1     2.129e+01  1.683e+04   0.001  0.99899    \n",
       "educ.._2     2.127e+01  1.683e+04   0.001  0.99899    \n",
       "educ.._3     2.126e+01  1.683e+04   0.001  0.99899    \n",
       "educ.._4     2.059e+01  1.683e+04   0.001  0.99902    \n",
       "educ.._5     1.990e+01  1.683e+04   0.001  0.99906    \n",
       "educ.._6     2.113e+01  1.683e+04   0.001  0.99900    \n",
       "marr.._1     1.454e+00  5.852e-01   2.484  0.01298 *  \n",
       "marr.._2     1.260e+00  5.854e-01   2.152  0.03142 *  \n",
       "marr.._3     1.376e+00  6.057e-01   2.271  0.02312 *  \n",
       "PAY_0        5.902e-01  2.102e-02  28.072  < 2e-16 ***\n",
       "PAY_2        5.570e-02  2.388e-02   2.333  0.01964 *  \n",
       "PAY_3        7.368e-02  2.675e-02   2.754  0.00588 ** \n",
       "PAY_4        4.287e-02  2.953e-02   1.452  0.14658    \n",
       "PAY_5        1.594e-02  3.181e-02   0.501  0.61627    \n",
       "PAY_6        3.596e-03  2.625e-02   0.137  0.89106    \n",
       "PAY_AMT1    -1.494e-05  2.807e-06  -5.322 1.02e-07 ***\n",
       "PAY_AMT2    -7.059e-06  2.332e-06  -3.027  0.00247 ** \n",
       "PAY_AMT3    -1.555e-06  1.920e-06  -0.810  0.41794    \n",
       "PAY_AMT4    -6.274e-06  2.231e-06  -2.812  0.00493 ** \n",
       "PAY_AMT5    -5.112e-06  2.174e-06  -2.351  0.01872 *  \n",
       "PAY_AMT6    -2.302e-06  1.552e-06  -1.483  0.13800    \n",
       "BILL_AMT1   -5.551e-06  1.318e-06  -4.213 2.52e-05 ***\n",
       "BILL_AMT2    3.655e-06  1.707e-06   2.141  0.03230 *  \n",
       "BILL_AMT3    3.207e-07  1.525e-06   0.210  0.83341    \n",
       "BILL_AMT4   -1.816e-06  1.638e-06  -1.109  0.26761    \n",
       "BILL_AMT5    1.623e-06  1.806e-06   0.899  0.36890    \n",
       "BILL_AMT6    1.306e-06  1.424e-06   0.917  0.35896    \n",
       "---\n",
       "Signif. codes:  0 '***' 0.001 '**' 0.01 '*' 0.05 '.' 0.1 ' ' 1\n",
       "\n",
       "Approximate significance of smooth terms:\n",
       "              edf Ref.df Chi.sq  p-value    \n",
       "s(LIMIT_BAL) 6.05  6.922  44.02 2.91e-07 ***\n",
       "---\n",
       "Signif. codes:  0 '***' 0.001 '**' 0.01 '*' 0.05 '.' 0.1 ' ' 1\n",
       "\n",
       "R-sq.(adj) =  0.164   Deviance explained = 12.6%\n",
       "UBRE = -0.073136  Scale est. = 1         n = 21602"
      ]
     },
     "metadata": {},
     "output_type": "display_data"
    }
   ],
   "source": [
    "formula = as.formula(paste(\"default~\", paste(colnames(train2[, !names(train2) %in% \n",
    "                                                     c(\"default\",\"LIMIT_BAL\")]), \n",
    "                                     collapse=\"+\"),'+s(LIMIT_BAL, bs=\"cr\")'))\n",
    "\n",
    "Logistic = gam(formula, data= train_tmp, family='binomial')\n",
    "summary(Logistic)\n"
   ]
  },
  {
   "cell_type": "markdown",
   "metadata": {},
   "source": [
    "Notice that $LIMIT$_$BAL$ is now described at the end of summary and is called a \"smooth term\"\n",
    "\n",
    "We can once again evaluate the ROC curve for this model."
   ]
  },
  {
   "cell_type": "code",
   "execution_count": 12,
   "metadata": {
    "scrolled": false
   },
   "outputs": [
    {
     "name": "stdout",
     "output_type": "stream",
     "text": [
      "Training AUC:  0.7289298\n",
      " Test AUC:  0.7144263"
     ]
    },
    {
     "data": {
      "image/png": "[encoded data removed]",
      "text/plain": [
       "plot without title"
      ]
     },
     "metadata": {},
     "output_type": "display_data"
    }
   ],
   "source": [
    "ROC = roc(train_tmp$default,Logistic$fitted.values)\n",
    "plot(ROC)\n",
    "cat('Training AUC: ', auc(ROC))\n",
    "\n",
    "ROC = roc(test_tmp$default,predict(Logistic,newdata = test_tmp))\n",
    "cat('\\n Test AUC: ', auc(ROC))\n",
    "\n"
   ]
  },
  {
   "cell_type": "markdown",
   "metadata": {},
   "source": [
    "We get a slight improvement in test performance in this case. One caveat to adding smoothing terms to the model is that they  can overfit. There are various ways of handling this, but penalization can and is used in this setting as well.\n",
    "\n",
    "Let's just go back to our model without the smooth terms to see that penalized regression is easily extended to the GLM family."
   ]
  },
  {
   "cell_type": "code",
   "execution_count": 13,
   "metadata": {},
   "outputs": [
    {
     "data": {
      "image/png": "[encoded data removed]",
      "text/plain": [
       "plot without title"
      ]
     },
     "metadata": {},
     "output_type": "display_data"
    }
   ],
   "source": [
    "y = as.double(as.matrix(train_tmp$default))                                     \n",
    "x = as.matrix(train_tmp[,-1])\n",
    "\n",
    "\n",
    "cv.lasso = cv.glmnet(x, y, family='binomial', alpha=1, nfolds=5, nlambda=1000)             \n",
    "plot(cv.lasso$glmnet.fit, xvar=\"lambda\")                                    \n"
   ]
  },
  {
   "cell_type": "code",
   "execution_count": 18,
   "metadata": {},
   "outputs": [
    {
     "name": "stdout",
     "output_type": "stream",
     "text": [
      "Training AUC:  0.7150328\n",
      " Test AUC:  0.7174447"
     ]
    },
    {
     "data": {
      "image/png": "[encoded data removed]",
      "text/plain": [
       "plot without title"
      ]
     },
     "metadata": {},
     "output_type": "display_data"
    }
   ],
   "source": [
    "ROC = roc(train_tmp$default,c(predict(cv.lasso,newx=x)))\n",
    "plot(ROC)\n",
    "cat('Training AUC: ', auc(ROC))\n",
    "\n",
    "\n",
    "xtest = as.matrix(test_tmp[,-1])\n",
    "ytest = as.double(as.matrix(test_tmp$default))\n",
    "ROC = roc(test_tmp$default,c(predict(cv.lasso,newx=xtest)))\n",
    "cat('\\n Test AUC: ', auc(ROC))\n",
    "\n"
   ]
  },
  {
   "cell_type": "markdown",
   "metadata": {
    "collapsed": true
   },
   "source": [
    "EXERCISES:\n",
    "\n",
    "Redo the Lasso regression with a subsample of the data where the default rate is much lower ($0.5\\%$)."
   ]
  }
 ],
 "metadata": {
  "kernelspec": {
   "display_name": "R",
   "language": "R",
   "name": "ir"
  },
  "language_info": {
   "codemirror_mode": "r",
   "file_extension": ".r",
   "mimetype": "text/x-r-source",
   "name": "R",
   "pygments_lexer": "r",
   "version": "3.4.2"
  }
 },
 "nbformat": 4,
 "nbformat_minor": 2
}
