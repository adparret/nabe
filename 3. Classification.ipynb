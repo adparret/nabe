{
 "cells": [
  {
   "cell_type": "code",
   "execution_count": 21,
   "metadata": {
    "scrolled": false
   },
   "outputs": [],
   "source": [
    "list.of.packages = c('tidyverse', 'caret', 'gridExtra', 'glmnet','mgcv', \n",
    "                     'margins','pROC','plotmo')\n",
    "new.packages = list.of.packages[!(list.of.packages %in% \n",
    "                                  installed.packages()[,\"Package\"])]\n",
    "if(length(new.packages)) install.packages(new.packages,\n",
    "                                      repos='http://cran.us.r-project.org')\n",
    "\n",
    "\n",
    "suppressWarnings(library(tidyverse, quietly = TRUE, warn.conflicts = FALSE))\n",
    "suppressWarnings(library(caret, quietly = TRUE, warn.conflicts = FALSE))\n",
    "suppressWarnings(library(mgcv, quietly = TRUE, warn.conflicts = FALSE))\n",
    "suppressWarnings(require(gridExtra, quietly = TRUE, warn.conflicts = FALSE))\n",
    "suppressWarnings(library(glmnet, quietly = TRUE, warn.conflicts = FALSE))\n",
    "suppressWarnings(library(margins, quietly = TRUE, warn.conflicts = FALSE))\n",
    "suppressWarnings(library(pROC, quietly = TRUE, warn.conflicts = FALSE))\n",
    "suppressWarnings(library(plotmo, quietly = TRUE, warn.conflicts = FALSE))\n",
    "\n",
    "set.seed(2718281)\n"
   ]
  },
  {
   "cell_type": "markdown",
   "metadata": {},
   "source": [
    "### In this module you will learn:\n",
    "\n",
    "\n",
    "1. How to classify credit card defaults based on observable characteristics\n",
    "2. Examine goodness-of-fit measures for classification\n",
    "3. Explore generalized additive models in R\n",
    "4. Explore shrinkage of nonlinear models\n",
    "\n",
    "### The Data\n",
    "\n",
    "The credit card default data is from Taiwan in 2005. We don't have too many covariates to examine, but the ones we do have should be informative. Let's look at the raw data to see the names and descriptions:\n",
    "\n",
    "| Covariate Name | Description                         |\n",
    "|----------------|-------------------------------------|\n",
    "| LIMIT_BAL      | Amt of credit available             |\n",
    "| SEX            | Indicator for sex                   |\n",
    "| AGE            | Age                                 |\n",
    "| PAY            | Denotes deliquency in past periods  |                     \n",
    "| BILL_AMT       | Denotes amount due in past periods  |\n",
    "| PAY_AMT        | Denotes amount paid in past periods |\n",
    "| educ           | Indicator for Education Level       |\n",
    "| marr           | Indicator for marital status        |\n",
    "| default        | Indicator for default status        |\n",
    "\n",
    "Alright now that we know what the variable names correspond to, let's load in the data.\n"
   ]
  },
  {
   "cell_type": "code",
   "execution_count": 2,
   "metadata": {},
   "outputs": [
    {
     "data": {
      "text/html": [
       "<table>\n",
       "<thead><tr><th scope=col>LIMIT_BAL</th><th scope=col>SEX</th><th scope=col>AGE</th><th scope=col>PAY_0</th><th scope=col>PAY_2</th><th scope=col>PAY_3</th><th scope=col>PAY_4</th><th scope=col>PAY_5</th><th scope=col>PAY_6</th><th scope=col>BILL_AMT1</th></tr></thead>\n",
       "<tbody>\n",
       "\t<tr><td> 20000</td><td>1     </td><td>24    </td><td> 2    </td><td> 2    </td><td>-1    </td><td>-1    </td><td>-2    </td><td>-2    </td><td>  3913</td></tr>\n",
       "\t<tr><td>120000</td><td>1     </td><td>26    </td><td>-1    </td><td> 2    </td><td> 0    </td><td> 0    </td><td> 0    </td><td> 2    </td><td>  2682</td></tr>\n",
       "\t<tr><td> 90000</td><td>1     </td><td>34    </td><td> 0    </td><td> 0    </td><td> 0    </td><td> 0    </td><td> 0    </td><td> 0    </td><td> 29239</td></tr>\n",
       "\t<tr><td> 50000</td><td>1     </td><td>37    </td><td> 0    </td><td> 0    </td><td> 0    </td><td> 0    </td><td> 0    </td><td> 0    </td><td> 46990</td></tr>\n",
       "\t<tr><td> 50000</td><td>0     </td><td>57    </td><td>-1    </td><td> 0    </td><td>-1    </td><td> 0    </td><td> 0    </td><td> 0    </td><td>  8617</td></tr>\n",
       "\t<tr><td> 50000</td><td>0     </td><td>37    </td><td> 0    </td><td> 0    </td><td> 0    </td><td> 0    </td><td> 0    </td><td> 0    </td><td> 64400</td></tr>\n",
       "\t<tr><td>500000</td><td>0     </td><td>29    </td><td> 0    </td><td> 0    </td><td> 0    </td><td> 0    </td><td> 0    </td><td> 0    </td><td>367965</td></tr>\n",
       "\t<tr><td>100000</td><td>1     </td><td>23    </td><td> 0    </td><td>-1    </td><td>-1    </td><td> 0    </td><td> 0    </td><td>-1    </td><td> 11876</td></tr>\n",
       "\t<tr><td>140000</td><td>1     </td><td>28    </td><td> 0    </td><td> 0    </td><td> 2    </td><td> 0    </td><td> 0    </td><td> 0    </td><td> 11285</td></tr>\n",
       "\t<tr><td> 20000</td><td>0     </td><td>35    </td><td>-2    </td><td>-2    </td><td>-2    </td><td>-2    </td><td>-1    </td><td>-1    </td><td>     0</td></tr>\n",
       "</tbody>\n",
       "</table>\n"
      ],
      "text/latex": [
       "\\begin{tabular}{r|llllllllll}\n",
       " LIMIT\\_BAL & SEX & AGE & PAY\\_0 & PAY\\_2 & PAY\\_3 & PAY\\_4 & PAY\\_5 & PAY\\_6 & BILL\\_AMT1\\\\\n",
       "\\hline\n",
       "\t  20000 & 1      & 24     &  2     &  2     & -1     & -1     & -2     & -2     &   3913\\\\\n",
       "\t 120000 & 1      & 26     & -1     &  2     &  0     &  0     &  0     &  2     &   2682\\\\\n",
       "\t  90000 & 1      & 34     &  0     &  0     &  0     &  0     &  0     &  0     &  29239\\\\\n",
       "\t  50000 & 1      & 37     &  0     &  0     &  0     &  0     &  0     &  0     &  46990\\\\\n",
       "\t  50000 & 0      & 57     & -1     &  0     & -1     &  0     &  0     &  0     &   8617\\\\\n",
       "\t  50000 & 0      & 37     &  0     &  0     &  0     &  0     &  0     &  0     &  64400\\\\\n",
       "\t 500000 & 0      & 29     &  0     &  0     &  0     &  0     &  0     &  0     & 367965\\\\\n",
       "\t 100000 & 1      & 23     &  0     & -1     & -1     &  0     &  0     & -1     &  11876\\\\\n",
       "\t 140000 & 1      & 28     &  0     &  0     &  2     &  0     &  0     &  0     &  11285\\\\\n",
       "\t  20000 & 0      & 35     & -2     & -2     & -2     & -2     & -1     & -1     &      0\\\\\n",
       "\\end{tabular}\n"
      ],
      "text/markdown": [
       "\n",
       "LIMIT_BAL | SEX | AGE | PAY_0 | PAY_2 | PAY_3 | PAY_4 | PAY_5 | PAY_6 | BILL_AMT1 | \n",
       "|---|---|---|---|---|---|---|---|---|---|\n",
       "|  20000 | 1      | 24     |  2     |  2     | -1     | -1     | -2     | -2     |   3913 | \n",
       "| 120000 | 1      | 26     | -1     |  2     |  0     |  0     |  0     |  2     |   2682 | \n",
       "|  90000 | 1      | 34     |  0     |  0     |  0     |  0     |  0     |  0     |  29239 | \n",
       "|  50000 | 1      | 37     |  0     |  0     |  0     |  0     |  0     |  0     |  46990 | \n",
       "|  50000 | 0      | 57     | -1     |  0     | -1     |  0     |  0     |  0     |   8617 | \n",
       "|  50000 | 0      | 37     |  0     |  0     |  0     |  0     |  0     |  0     |  64400 | \n",
       "| 500000 | 0      | 29     |  0     |  0     |  0     |  0     |  0     |  0     | 367965 | \n",
       "| 100000 | 1      | 23     |  0     | -1     | -1     |  0     |  0     | -1     |  11876 | \n",
       "| 140000 | 1      | 28     |  0     |  0     |  2     |  0     |  0     |  0     |  11285 | \n",
       "|  20000 | 0      | 35     | -2     | -2     | -2     | -2     | -1     | -1     |      0 | \n",
       "\n",
       "\n"
      ],
      "text/plain": [
       "   LIMIT_BAL SEX AGE PAY_0 PAY_2 PAY_3 PAY_4 PAY_5 PAY_6 BILL_AMT1\n",
       "1   20000    1   24   2     2    -1    -1    -2    -2      3913   \n",
       "2  120000    1   26  -1     2     0     0     0     2      2682   \n",
       "3   90000    1   34   0     0     0     0     0     0     29239   \n",
       "4   50000    1   37   0     0     0     0     0     0     46990   \n",
       "5   50000    0   57  -1     0    -1     0     0     0      8617   \n",
       "6   50000    0   37   0     0     0     0     0     0     64400   \n",
       "7  500000    0   29   0     0     0     0     0     0    367965   \n",
       "8  100000    1   23   0    -1    -1     0     0    -1     11876   \n",
       "9  140000    1   28   0     0     2     0     0     0     11285   \n",
       "10  20000    0   35  -2    -2    -2    -2    -1    -1         0   "
      ]
     },
     "metadata": {},
     "output_type": "display_data"
    },
    {
     "name": "stdout",
     "output_type": "stream",
     "text": [
      "Dataset dimesions:  30000 31"
     ]
    }
   ],
   "source": [
    "defaults = read.csv('default.csv')   \n",
    "# Reads csv files into R\n",
    "defaults[1:10,1:10]                               \n",
    "# Examine the first few rows of our data                        \n",
    "cat('Dataset dimesions: ', dim(defaults))            \n",
    "# Returns the dimension of the dataset \n",
    "defaults$default = as.factor(defaults$default)"
   ]
  },
  {
   "cell_type": "markdown",
   "metadata": {},
   "source": [
    "## Validation Split in Discrete Data\n",
    "\n",
    "One thing we have to be careful about in classification is how we split the sample to preserve the balance of the data. Let's see what proportion of the sample actually defaults."
   ]
  },
  {
   "cell_type": "code",
   "execution_count": 3,
   "metadata": {},
   "outputs": [
    {
     "data": {},
     "metadata": {},
     "output_type": "display_data"
    },
    {
     "name": "stdout",
     "output_type": "stream",
     "text": [
      "proportion of defaults:  0.2840267"
     ]
    },
    {
     "data": {
      "image/png": "[encoded data removed]",
      "text/plain": [
       "plot without title"
      ]
     },
     "metadata": {},
     "output_type": "display_data"
    }
   ],
   "source": [
    "ggplot(defaults, aes(default)) + geom_bar()\n",
    "cat('proportion of defaults: ', sum(defaults$default==1)/sum(defaults$default==0))"
   ]
  },
  {
   "cell_type": "markdown",
   "metadata": {},
   "source": [
    "It looks like a bit more than $\\frac{1}{4}$ of the sample defaults. As we did before, let's split our data into train-test-validation sets, but this time we are going to use the built in 'createDataPartition' function. We want to make sure that our splits preserve this proportion. This function will automatically balance the splits based on a specified covariate. In this case we are balancing on $default$."
   ]
  },
  {
   "cell_type": "code",
   "execution_count": 4,
   "metadata": {},
   "outputs": [],
   "source": [
    "## Splitting the data\n",
    "trainIndex = createDataPartition(defaults$default, p = .9,\n",
    "                                  list = FALSE, \n",
    "                                  times = 1)\n",
    "train_test = defaults[trainIndex,]\n",
    "validation = defaults[-trainIndex,]\n"
   ]
  },
  {
   "cell_type": "markdown",
   "metadata": {},
   "source": [
    "## Building a Classifier\n",
    "\n",
    "To get started we can train a very simple classifier based only on $SEX$, $AGE$, $EDUC$, $MARR$, and $LIMIT$_$BAL$. The simple classifier will use logistic regression. This is very easy to implement in R. The only changes we have to make in the train function is to specify \"glm\" instead of \"lm\" and change the \"family\" to binomial. Let's examine the model."
   ]
  },
  {
   "cell_type": "code",
   "execution_count": 5,
   "metadata": {
    "scrolled": false
   },
   "outputs": [
    {
     "data": {
      "text/plain": [
       "\n",
       "Call:\n",
       "glm(formula = default ~ ., family = \"binomial\", data = train_tmp)\n",
       "\n",
       "Deviance Residuals: \n",
       "    Min       1Q   Median       3Q      Max  \n",
       "-0.9856  -0.7658  -0.6458  -0.4219   2.6765  \n",
       "\n",
       "Coefficients:\n",
       "              Estimate Std. Error z value Pr(>|z|)    \n",
       "(Intercept) -1.327e+01  1.015e+02  -0.131   0.8960    \n",
       "SEX         -1.741e-01  3.407e-02  -5.110 3.22e-07 ***\n",
       "AGE          3.600e-03  2.077e-03   1.733   0.0831 .  \n",
       "LIMIT_BAL   -3.237e-06  1.564e-07 -20.694  < 2e-16 ***\n",
       "educ.._1     1.105e+01  1.015e+02   0.109   0.9133    \n",
       "educ.._2     1.112e+01  1.015e+02   0.110   0.9128    \n",
       "educ.._3     1.112e+01  1.015e+02   0.110   0.9128    \n",
       "educ.._4     9.935e+00  1.015e+02   0.098   0.9220    \n",
       "educ.._5     9.866e+00  1.015e+02   0.097   0.9226    \n",
       "educ.._6     1.037e+01  1.015e+02   0.102   0.9187    \n",
       "marr.._1     1.492e+00  6.024e-01   2.477   0.0132 *  \n",
       "marr.._2     1.307e+00  6.026e-01   2.169   0.0301 *  \n",
       "marr.._3     1.482e+00  6.197e-01   2.392   0.0168 *  \n",
       "---\n",
       "Signif. codes:  0 '***' 0.001 '**' 0.01 '*' 0.05 '.' 0.1 ' ' 1\n",
       "\n",
       "(Dispersion parameter for binomial family taken to be 1)\n",
       "\n",
       "    Null deviance: 22832  on 21601  degrees of freedom\n",
       "Residual deviance: 22157  on 21589  degrees of freedom\n",
       "AIC: 22183\n",
       "\n",
       "Number of Fisher Scoring iterations: 11\n"
      ]
     },
     "metadata": {},
     "output_type": "display_data"
    }
   ],
   "source": [
    "train1 = cbind(train_test[c('default','SEX','AGE','LIMIT_BAL')],\n",
    "               select(train_test,starts_with('educ')),\n",
    "           select(train_test,starts_with('marr')))\n",
    "\n",
    "\n",
    "# Lets just do a single split here into train-test\n",
    "\n",
    "tmp = createDataPartition(train1$default, p = .8,\n",
    "                                  list = FALSE, \n",
    "                                  times = 1)\n",
    "train_tmp = train1[tmp,]\n",
    "test_tmp = train1[-tmp,]\n",
    "\n",
    "\n",
    "Logistic = glm(default~., data= train_tmp, family='binomial')       \n",
    "#GLM (generalized linear model) with family=binomial\n",
    "\n",
    "summary(Logistic)"
   ]
  },
  {
   "cell_type": "markdown",
   "metadata": {},
   "source": [
    "## Intepreting the Classifier\n",
    "\n",
    "This is the full output from our logistic regression. Remember unlike the linear model, the coefficients themselves do not have a direct interpretation. However, we do care about the statistical significance of the parameters. We can see that in this particular specification the most important factors are sex and limit balance. These results are consistent with other findings. The \"SEX\" variable indicates the individual is Female and the sign is negative, i.e. Females are less likely to default than Males (ceteris paribus). Naturally, a higher limit balance should indicate a lower likelihood of default."
   ]
  },
  {
   "cell_type": "markdown",
   "metadata": {},
   "source": [
    "## What about Marginal Effects?\n",
    "\n",
    "Since we can't directly interpret the coefficients as marginal effects we need to perform an extra step. We can get average marginal effects for all covariates in the model using the margins package."
   ]
  },
  {
   "cell_type": "code",
   "execution_count": 6,
   "metadata": {},
   "outputs": [
    {
     "data": {
      "text/html": [
       "<table>\n",
       "<thead><tr><th scope=col>factor</th><th scope=col>AME</th><th scope=col>SE</th><th scope=col>z</th><th scope=col>p</th><th scope=col>lower</th><th scope=col>upper</th></tr></thead>\n",
       "<tbody>\n",
       "\t<tr><td>AGE          </td><td> 6.019701e-04</td><td>3.472710e-04 </td><td>  1.73343051 </td><td>8.301918e-02 </td><td>-7.866850e-05</td><td> 1.282609e-03</td></tr>\n",
       "\t<tr><td>educ.._1     </td><td> 1.848641e+00</td><td>1.697729e+01 </td><td>  0.10888904 </td><td>9.132905e-01 </td><td>-3.142624e+01</td><td> 3.512353e+01</td></tr>\n",
       "\t<tr><td>educ.._2     </td><td> 1.859216e+00</td><td>1.697730e+01 </td><td>  0.10951193 </td><td>9.127965e-01 </td><td>-3.141567e+01</td><td> 3.513410e+01</td></tr>\n",
       "\t<tr><td>educ.._3     </td><td> 1.859420e+00</td><td>1.697729e+01 </td><td>  0.10952393 </td><td>9.127869e-01 </td><td>-3.141546e+01</td><td> 3.513430e+01</td></tr>\n",
       "\t<tr><td>educ.._4     </td><td> 1.661387e+00</td><td>1.697744e+01 </td><td>  0.09785850 </td><td>9.220447e-01 </td><td>-3.161379e+01</td><td> 3.493656e+01</td></tr>\n",
       "\t<tr><td>educ.._5     </td><td> 1.649890e+00</td><td>1.697759e+01 </td><td>  0.09718048 </td><td>9.225831e-01 </td><td>-3.162557e+01</td><td> 3.492535e+01</td></tr>\n",
       "\t<tr><td>educ.._6     </td><td> 1.733694e+00</td><td>1.697749e+01 </td><td>  0.10211720 </td><td>9.186636e-01 </td><td>-3.154157e+01</td><td> 3.500896e+01</td></tr>\n",
       "\t<tr><td>LIMIT_BAL    </td><td>-5.413791e-07</td><td>2.581618e-08 </td><td>-20.97053200 </td><td>1.218934e-97 </td><td>-5.919779e-07</td><td>-4.907803e-07</td></tr>\n",
       "\t<tr><td>marr.._1     </td><td> 2.495719e-01</td><td>1.007226e-01 </td><td>  2.47781528 </td><td>1.321896e-02 </td><td> 5.215931e-02</td><td> 4.469845e-01</td></tr>\n",
       "\t<tr><td>marr.._2     </td><td> 2.185742e-01</td><td>1.007614e-01 </td><td>  2.16922539 </td><td>3.006558e-02 </td><td> 2.108547e-02</td><td> 4.160629e-01</td></tr>\n",
       "\t<tr><td>marr.._3     </td><td> 2.478541e-01</td><td>1.036028e-01 </td><td>  2.39235081 </td><td>1.674083e-02 </td><td> 4.479647e-02</td><td> 4.509118e-01</td></tr>\n",
       "\t<tr><td>SEX          </td><td>-2.911316e-02</td><td>5.688069e-03 </td><td> -5.11828493 </td><td>3.083266e-07 </td><td>-4.026157e-02</td><td>-1.796475e-02</td></tr>\n",
       "</tbody>\n",
       "</table>\n"
      ],
      "text/latex": [
       "\\begin{tabular}{r|lllllll}\n",
       " factor & AME & SE & z & p & lower & upper\\\\\n",
       "\\hline\n",
       "\t AGE           &  6.019701e-04 & 3.472710e-04  &   1.73343051  & 8.301918e-02  & -7.866850e-05 &  1.282609e-03\\\\\n",
       "\t educ..\\_1    &  1.848641e+00 & 1.697729e+01  &   0.10888904  & 9.132905e-01  & -3.142624e+01 &  3.512353e+01\\\\\n",
       "\t educ..\\_2    &  1.859216e+00 & 1.697730e+01  &   0.10951193  & 9.127965e-01  & -3.141567e+01 &  3.513410e+01\\\\\n",
       "\t educ..\\_3    &  1.859420e+00 & 1.697729e+01  &   0.10952393  & 9.127869e-01  & -3.141546e+01 &  3.513430e+01\\\\\n",
       "\t educ..\\_4    &  1.661387e+00 & 1.697744e+01  &   0.09785850  & 9.220447e-01  & -3.161379e+01 &  3.493656e+01\\\\\n",
       "\t educ..\\_5    &  1.649890e+00 & 1.697759e+01  &   0.09718048  & 9.225831e-01  & -3.162557e+01 &  3.492535e+01\\\\\n",
       "\t educ..\\_6    &  1.733694e+00 & 1.697749e+01  &   0.10211720  & 9.186636e-01  & -3.154157e+01 &  3.500896e+01\\\\\n",
       "\t LIMIT\\_BAL   & -5.413791e-07 & 2.581618e-08  & -20.97053200  & 1.218934e-97  & -5.919779e-07 & -4.907803e-07\\\\\n",
       "\t marr..\\_1    &  2.495719e-01 & 1.007226e-01  &   2.47781528  & 1.321896e-02  &  5.215931e-02 &  4.469845e-01\\\\\n",
       "\t marr..\\_2    &  2.185742e-01 & 1.007614e-01  &   2.16922539  & 3.006558e-02  &  2.108547e-02 &  4.160629e-01\\\\\n",
       "\t marr..\\_3    &  2.478541e-01 & 1.036028e-01  &   2.39235081  & 1.674083e-02  &  4.479647e-02 &  4.509118e-01\\\\\n",
       "\t SEX           & -2.911316e-02 & 5.688069e-03  &  -5.11828493  & 3.083266e-07  & -4.026157e-02 & -1.796475e-02\\\\\n",
       "\\end{tabular}\n"
      ],
      "text/markdown": [
       "\n",
       "factor | AME | SE | z | p | lower | upper | \n",
       "|---|---|---|---|---|---|---|---|---|---|---|---|\n",
       "| AGE           |  6.019701e-04 | 3.472710e-04  |   1.73343051  | 8.301918e-02  | -7.866850e-05 |  1.282609e-03 | \n",
       "| educ.._1      |  1.848641e+00 | 1.697729e+01  |   0.10888904  | 9.132905e-01  | -3.142624e+01 |  3.512353e+01 | \n",
       "| educ.._2      |  1.859216e+00 | 1.697730e+01  |   0.10951193  | 9.127965e-01  | -3.141567e+01 |  3.513410e+01 | \n",
       "| educ.._3      |  1.859420e+00 | 1.697729e+01  |   0.10952393  | 9.127869e-01  | -3.141546e+01 |  3.513430e+01 | \n",
       "| educ.._4      |  1.661387e+00 | 1.697744e+01  |   0.09785850  | 9.220447e-01  | -3.161379e+01 |  3.493656e+01 | \n",
       "| educ.._5      |  1.649890e+00 | 1.697759e+01  |   0.09718048  | 9.225831e-01  | -3.162557e+01 |  3.492535e+01 | \n",
       "| educ.._6      |  1.733694e+00 | 1.697749e+01  |   0.10211720  | 9.186636e-01  | -3.154157e+01 |  3.500896e+01 | \n",
       "| LIMIT_BAL     | -5.413791e-07 | 2.581618e-08  | -20.97053200  | 1.218934e-97  | -5.919779e-07 | -4.907803e-07 | \n",
       "| marr.._1      |  2.495719e-01 | 1.007226e-01  |   2.47781528  | 1.321896e-02  |  5.215931e-02 |  4.469845e-01 | \n",
       "| marr.._2      |  2.185742e-01 | 1.007614e-01  |   2.16922539  | 3.006558e-02  |  2.108547e-02 |  4.160629e-01 | \n",
       "| marr.._3      |  2.478541e-01 | 1.036028e-01  |   2.39235081  | 1.674083e-02  |  4.479647e-02 |  4.509118e-01 | \n",
       "| SEX           | -2.911316e-02 | 5.688069e-03  |  -5.11828493  | 3.083266e-07  | -4.026157e-02 | -1.796475e-02 | \n",
       "\n",
       "\n"
      ],
      "text/plain": [
       "   factor    AME           SE           z            p            lower        \n",
       "1  AGE        6.019701e-04 3.472710e-04   1.73343051 8.301918e-02 -7.866850e-05\n",
       "2  educ.._1   1.848641e+00 1.697729e+01   0.10888904 9.132905e-01 -3.142624e+01\n",
       "3  educ.._2   1.859216e+00 1.697730e+01   0.10951193 9.127965e-01 -3.141567e+01\n",
       "4  educ.._3   1.859420e+00 1.697729e+01   0.10952393 9.127869e-01 -3.141546e+01\n",
       "5  educ.._4   1.661387e+00 1.697744e+01   0.09785850 9.220447e-01 -3.161379e+01\n",
       "6  educ.._5   1.649890e+00 1.697759e+01   0.09718048 9.225831e-01 -3.162557e+01\n",
       "7  educ.._6   1.733694e+00 1.697749e+01   0.10211720 9.186636e-01 -3.154157e+01\n",
       "8  LIMIT_BAL -5.413791e-07 2.581618e-08 -20.97053200 1.218934e-97 -5.919779e-07\n",
       "9  marr.._1   2.495719e-01 1.007226e-01   2.47781528 1.321896e-02  5.215931e-02\n",
       "10 marr.._2   2.185742e-01 1.007614e-01   2.16922539 3.006558e-02  2.108547e-02\n",
       "11 marr.._3   2.478541e-01 1.036028e-01   2.39235081 1.674083e-02  4.479647e-02\n",
       "12 SEX       -2.911316e-02 5.688069e-03  -5.11828493 3.083266e-07 -4.026157e-02\n",
       "   upper        \n",
       "1   1.282609e-03\n",
       "2   3.512353e+01\n",
       "3   3.513410e+01\n",
       "4   3.513430e+01\n",
       "5   3.493656e+01\n",
       "6   3.492535e+01\n",
       "7   3.500896e+01\n",
       "8  -4.907803e-07\n",
       "9   4.469845e-01\n",
       "10  4.160629e-01\n",
       "11  4.509118e-01\n",
       "12 -1.796475e-02"
      ]
     },
     "metadata": {},
     "output_type": "display_data"
    }
   ],
   "source": [
    "m = suppressWarnings(margins(Logistic))\n",
    "summary(m)"
   ]
  },
  {
   "cell_type": "markdown",
   "metadata": {},
   "source": [
    "\n",
    "## Visualizing Marginal Effects\n",
    "\n",
    "This table may be a bit overwhelming when we have many covariates. It may be easier to visualize these effects directly. Let's just examine the effects over the range of $LIMIT$_$BAL$"
   ]
  },
  {
   "cell_type": "code",
   "execution_count": 7,
   "metadata": {},
   "outputs": [
    {
     "name": "stdout",
     "output_type": "stream",
     "text": [
      "    xvals      yvals      upper      lower\n",
      "1   10000 0.30772296 0.33028616 0.28515977\n",
      "2   51250 0.28002604 0.30053929 0.25951280\n",
      "3   92500 0.25390769 0.27266736 0.23514803\n",
      "4  133750 0.22944907 0.24675456 0.21214357\n",
      "5  175000 0.20669380 0.22282204 0.19056557\n",
      "6  216250 0.18565153 0.20083698 0.17046609\n",
      "7  257500 0.16630239 0.18072608 0.15187869\n",
      "8  298750 0.14860187 0.16239003 0.13481371\n",
      "9  340000 0.13248593 0.14571613 0.11925573\n",
      "10 381250 0.11787579 0.13058732 0.10516427\n",
      "11 422500 0.10468240 0.11688762 0.09247718\n",
      "12 463750 0.09281033 0.10450501 0.08111565\n",
      "13 505000 0.08216111 0.09333267 0.07098956\n",
      "14 546250 0.07263597 0.08326950 0.06200245\n",
      "15 587500 0.06413794 0.07422022 0.05405566\n",
      "16 628750 0.05657348 0.06609538 0.04705158\n",
      "17 670000 0.04985365 0.05881132 0.04089599\n",
      "18 711250 0.04389487 0.05229008 0.03549967\n",
      "19 752500 0.03861937 0.04645932 0.03077942\n",
      "20 793750 0.03395538 0.04125216 0.02665860\n"
     ]
    },
    {
     "data": {
      "image/png": "[encoded data removed]",
      "text/plain": [
       "plot without title"
      ]
     },
     "metadata": {},
     "output_type": "display_data"
    }
   ],
   "source": [
    "cplot(Logistic, \"LIMIT_BAL\")"
   ]
  },
  {
   "cell_type": "markdown",
   "metadata": {},
   "source": [
    "As we expect the probability of default decreases with an increased limit balance, but at a decreasing rate.\n",
    "\n",
    "## A Visualization for Goodness-of-fit\n",
    "\n",
    "Now let's go ahead and look at the ROC (Receiver operating characteristics) curve. This is really just a way to graph the confusion matrix. The idea is to use sensitivity = True Positives / (True Positives + False Negatives) and specificity = True Negative / (True Negative + False Positive) and plot the tradeoff. Depending on the scenario in question one may prefer one over the other, but in general one wants to maximize the AUC (area under the curve)."
   ]
  },
  {
   "cell_type": "code",
   "execution_count": 8,
   "metadata": {},
   "outputs": [
    {
     "name": "stdout",
     "output_type": "stream",
     "text": [
      "Training AUC:  0.6228948\n",
      " Test AUC:  0.6371498"
     ]
    },
    {
     "data": {
      "image/png": "[encoded data removed]",
      "text/plain": [
       "plot without title"
      ]
     },
     "metadata": {},
     "output_type": "display_data"
    }
   ],
   "source": [
    "ROC = roc(train_tmp$default,Logistic$fitted.values)\n",
    "plot(ROC)\n",
    "cat('Training AUC: ', auc(ROC))\n",
    "\n",
    "ROC = roc(test_tmp$default,predict(Logistic,newdata = test_tmp))\n",
    "cat('\\n Test AUC: ', auc(ROC))"
   ]
  },
  {
   "cell_type": "markdown",
   "metadata": {},
   "source": [
    "## How did we do?\n",
    "\n",
    "The simple classifier doesn't do too poorly. Training and test set performance are about the same, but we should be able to obtain better performance by including the remaining covariates. Add the covariates relating to past payment and bill balances using the select() command and run the new regression model."
   ]
  },
  {
   "cell_type": "code",
   "execution_count": 9,
   "metadata": {
    "scrolled": false
   },
   "outputs": [],
   "source": [
    "train2 = cbind(train1,select(train_test,starts_with('PAY')),\n",
    "               select(train_test,starts_with('BILL')))\n",
    "\n",
    "tmp = createDataPartition(train2$default, p = .8,\n",
    "                                  list = FALSE, \n",
    "                                  times = 1)\n",
    "train_tmp = train2[tmp,]\n",
    "test_tmp = train2[-tmp,]\n",
    "\n",
    "Logistic = glm(default~., data= train_tmp, family='binomial')"
   ]
  },
  {
   "cell_type": "markdown",
   "metadata": {},
   "source": [
    "How does our ROC improve by adding these covariates?"
   ]
  },
  {
   "cell_type": "code",
   "execution_count": 10,
   "metadata": {},
   "outputs": [
    {
     "name": "stdout",
     "output_type": "stream",
     "text": [
      "Training AUC:  0.7283954\n",
      " Test AUC:  0.7147754"
     ]
    },
    {
     "data": {
      "image/png": "[encoded data removed]",
      "text/plain": [
       "plot without title"
      ]
     },
     "metadata": {},
     "output_type": "display_data"
    }
   ],
   "source": [
    "ROC = roc(train_tmp$default,Logistic$fitted.values)\n",
    "plot(ROC)\n",
    "cat('Training AUC: ', auc(ROC))\n",
    "\n",
    "ROC = roc(test_tmp$default,predict(Logistic,newdata = test_tmp))\n",
    "cat('\\n Test AUC: ', auc(ROC))\n"
   ]
  },
  {
   "cell_type": "markdown",
   "metadata": {},
   "source": [
    "## Improving our Classifier\n",
    "\n",
    "Looks like adding the additional information helped quite a bit. However, we may be interested in other functional forms for the model.\n",
    "There are many options for flexible functional forms. The most common way is to add higher order terms (polynomials) as we did in the first module. Another common method is to use a cubic spline. Let's consider a very simple extension of the previous model. The only difference will be the $LIMIT$_$BAL$ variable enters the model as an argument of an unknown function. The extension of GLM in this form is called a GAM (Generalized Additive Model).\n",
    "\n",
    "In R we can use the GAM package to estimate these types of models. One thing to keep in mind is the formula must be specified here. The model we are looking at is exactly the same as the previous one except we apply a cubic spline to $LIMIT$_$BAL$, $PAY$_$AMT1$, and $BILL$_$AMT1$. This is denoted by \"s()\" with the option set to \"cr\"."
   ]
  },
  {
   "cell_type": "code",
   "execution_count": 11,
   "metadata": {},
   "outputs": [
    {
     "data": {
      "text/plain": [
       "\n",
       "Family: binomial \n",
       "Link function: logit \n",
       "\n",
       "Formula:\n",
       "default ~ SEX + AGE + educ.._1 + educ.._2 + educ.._3 + educ.._4 + \n",
       "    educ.._5 + educ.._6 + marr.._1 + marr.._2 + marr.._3 + PAY_0 + \n",
       "    PAY_2 + PAY_3 + PAY_4 + PAY_5 + PAY_6 + PAY_AMT2 + PAY_AMT3 + \n",
       "    PAY_AMT4 + PAY_AMT5 + PAY_AMT6 + BILL_AMT1 + BILL_AMT2 + \n",
       "    BILL_AMT3 + BILL_AMT4 + BILL_AMT5 + BILL_AMT6 + s(LIMIT_BAL, \n",
       "    bs = \"cr\") + s(PAY_AMT1, bs = \"cr\") + s(BILL_AMT1, bs = \"cr\")\n",
       "\n",
       "Parametric coefficients:\n",
       "              Estimate Std. Error z value Pr(>|z|)    \n",
       "(Intercept) -2.408e+01  1.537e+04  -0.002  0.99875    \n",
       "SEX         -1.139e-01  3.706e-02  -3.072  0.00212 ** \n",
       "AGE          2.908e-03  2.238e-03   1.300  0.19375    \n",
       "educ.._1     2.111e+01  1.537e+04   0.001  0.99890    \n",
       "educ.._2     2.115e+01  1.537e+04   0.001  0.99890    \n",
       "educ.._3     2.113e+01  1.537e+04   0.001  0.99890    \n",
       "educ.._4     2.049e+01  1.537e+04   0.001  0.99894    \n",
       "educ.._5     1.982e+01  1.537e+04   0.001  0.99897    \n",
       "educ.._6     2.104e+01  1.537e+04   0.001  0.99891    \n",
       "marr.._1     1.594e+00  6.043e-01   2.638  0.00834 ** \n",
       "marr.._2     1.402e+00  6.045e-01   2.319  0.02040 *  \n",
       "marr.._3     1.543e+00  6.248e-01   2.470  0.01352 *  \n",
       "PAY_0        5.235e-01  2.080e-02  25.164  < 2e-16 ***\n",
       "PAY_2        6.939e-02  2.725e-02   2.546  0.01089 *  \n",
       "PAY_3        1.594e-01  2.819e-02   5.654 1.57e-08 ***\n",
       "PAY_4        6.900e-02  2.936e-02   2.350  0.01876 *  \n",
       "PAY_5        3.848e-02  3.167e-02   1.215  0.22447    \n",
       "PAY_6        4.596e-02  2.634e-02   1.744  0.08107 .  \n",
       "PAY_AMT2    -5.628e-06  2.217e-06  -2.538  0.01114 *  \n",
       "PAY_AMT3    -6.346e-07  1.768e-06  -0.359  0.71958    \n",
       "PAY_AMT4    -4.415e-06  2.055e-06  -2.148  0.03169 *  \n",
       "PAY_AMT5    -4.582e-06  2.087e-06  -2.195  0.02814 *  \n",
       "PAY_AMT6    -2.281e-06  1.546e-06  -1.475  0.14028    \n",
       "BILL_AMT1   -5.830e-07  2.304e-06  -0.253  0.80024    \n",
       "BILL_AMT2    2.756e-06  1.542e-06   1.787  0.07387 .  \n",
       "BILL_AMT3    2.092e-07  1.426e-06   0.147  0.88338    \n",
       "BILL_AMT4   -1.636e-06  1.510e-06  -1.083  0.27887    \n",
       "BILL_AMT5    2.078e-07  1.707e-06   0.122  0.90313    \n",
       "BILL_AMT6    1.580e-06  1.352e-06   1.169  0.24260    \n",
       "---\n",
       "Signif. codes:  0 '***' 0.001 '**' 0.01 '*' 0.05 '.' 0.1 ' ' 1\n",
       "\n",
       "Approximate significance of smooth terms:\n",
       "               edf Ref.df Chi.sq  p-value    \n",
       "s(LIMIT_BAL) 2.535  3.200  65.54 9.95e-14 ***\n",
       "s(PAY_AMT1)  7.302  8.026  92.46  < 2e-16 ***\n",
       "s(BILL_AMT1) 6.683  7.391 217.66  < 2e-16 ***\n",
       "---\n",
       "Signif. codes:  0 '***' 0.001 '**' 0.01 '*' 0.05 '.' 0.1 ' ' 1\n",
       "\n",
       "Rank: 55/56\n",
       "R-sq.(adj) =  0.176   Deviance explained = 14.7%\n",
       "UBRE = -0.09475  Scale est. = 1         n = 21602"
      ]
     },
     "metadata": {},
     "output_type": "display_data"
    }
   ],
   "source": [
    "formula = as.formula(paste(\"default~\", paste(colnames(train2[, !names(train2) %in% \n",
    "                    c(\"default\",\"LIMIT_BAL\",\"PAY_AMT1\",\"BILL_AMT\")]), \n",
    "                    collapse=\"+\"),'+s(LIMIT_BAL, bs=\"cr\")',\n",
    "                    '+s(PAY_AMT1, bs=\"cr\")',\n",
    "                    '+s(BILL_AMT1, bs=\"cr\")'))\n",
    "\n",
    "Logistic = gam(formula, data= train_tmp, family='binomial')\n",
    "summary(Logistic)\n"
   ]
  },
  {
   "cell_type": "markdown",
   "metadata": {},
   "source": [
    "Notice that $LIMIT$_$BAL$, $PAY$_$AMT1$, and $BILL$_$AMT1$ are now described at the end of summary and are called a \"smooth term\". We can once again evaluate the ROC curve for this model."
   ]
  },
  {
   "cell_type": "code",
   "execution_count": 12,
   "metadata": {
    "scrolled": false
   },
   "outputs": [
    {
     "name": "stdout",
     "output_type": "stream",
     "text": [
      "Training AUC:  0.7569711\n",
      " Test AUC:  0.7461608"
     ]
    },
    {
     "data": {
      "image/png": "[encoded data removed]",
      "text/plain": [
       "plot without title"
      ]
     },
     "metadata": {},
     "output_type": "display_data"
    }
   ],
   "source": [
    "ROC = roc(train_tmp$default,Logistic$fitted.values)\n",
    "plot(ROC)\n",
    "cat('Training AUC: ', auc(ROC))\n",
    "\n",
    "ROC = roc(test_tmp$default,predict(Logistic,newdata = test_tmp))\n",
    "cat('\\n Test AUC: ', auc(ROC))\n",
    "\n"
   ]
  },
  {
   "cell_type": "markdown",
   "metadata": {},
   "source": [
    "## Evaluating the GAM\n",
    "\n",
    "We get an improvement in test performance in this case. One caveat to adding smoothing terms to the model is that they can overfit. There are various ways of handling this, but penalization can and is used in this setting as well. We can do both of these things at once, but for simplicity let's go back to the full model without the smooth terms.\n",
    "\n",
    "## Shrinkage in Nonlinear Models\n",
    "\n",
    "The same penalty terms can be used in nonlinear models as they were in the linear case. Let's use LASSO on our model.\n",
    "\n",
    "\n"
   ]
  },
  {
   "cell_type": "code",
   "execution_count": 13,
   "metadata": {},
   "outputs": [
    {
     "data": {
      "image/png": "[encoded data removed]",
      "text/plain": [
       "Plot with title \"\""
      ]
     },
     "metadata": {},
     "output_type": "display_data"
    }
   ],
   "source": [
    "y = as.double(as.matrix(train_tmp$default))                                     \n",
    "x = as.matrix(train_tmp[,-1])\n",
    "\n",
    "reg = glmnet(x, y, family='binomial', alpha=1, nlambda=1000)\n",
    "cv.lasso = cv.glmnet(x, y, family='binomial', alpha=1, nfolds=5, nlambda=1000)      \n",
    "plot_glmnet(reg, label=TRUE, s = cv.lasso$lambda.min, xvar=\"lambda\")\n",
    "                              \n"
   ]
  },
  {
   "cell_type": "markdown",
   "metadata": {},
   "source": [
    "As before the coefficients are shrinking towards $0$ as the penalty increases. We see the coefficient for $PAY$_$0$ is the final value to reach zero. Although we should be careful about correlation between the independent variables, this suggests that how much an individual paid in the last period is the most important feature of our classifier (at least for this specification)."
   ]
  },
  {
   "cell_type": "code",
   "execution_count": 14,
   "metadata": {},
   "outputs": [
    {
     "name": "stdout",
     "output_type": "stream",
     "text": [
      "Training AUC:  0.7215527\n",
      " Test AUC:  0.710369"
     ]
    },
    {
     "data": {
      "image/png": "[encoded data removed]",
      "text/plain": [
       "plot without title"
      ]
     },
     "metadata": {},
     "output_type": "display_data"
    }
   ],
   "source": [
    "ROC = roc(train_tmp$default,c(predict(cv.lasso,newx=x)))\n",
    "plot(ROC)\n",
    "cat('Training AUC: ', auc(ROC))\n",
    "\n",
    "\n",
    "xtest = as.matrix(test_tmp[,-1])\n",
    "ytest = as.double(as.matrix(test_tmp$default))\n",
    "ROC = roc(test_tmp$default,c(predict(cv.lasso,newx=xtest)))\n",
    "cat('\\n Test AUC: ', auc(ROC))\n",
    "\n"
   ]
  },
  {
   "cell_type": "markdown",
   "metadata": {},
   "source": [
    "## Exercise: Module 3\n",
    "\n",
    "In this module we saw how to split data when the outcome variable is binary to ensure proper balance across the splits. We built a simple linear classifier using logistic regression and examined the individual significance of the parameters. In addition we showed how one can compute and display marginal effects of these covariates. We introduced the concept of ROC for goodness-of-fit and examined both GAMs and shrinkage. An interesting question to ask is what would happen if we subset the sample so that the default rate is much lower, i.e. the outcome variable is very imbalanced?\n",
    "\n",
    "1. Subsample the data such that the default rate is much lower ($0.5\\%$)\n",
    "2. What happens when you run the logistic regression on this data?\n",
    "2. Redo the LASSO regression on this subsample\n",
    "3. What do you find?\n"
   ]
  },
  {
   "cell_type": "markdown",
   "metadata": {},
   "source": [
    "We have seen that when the proportion of non-zero to zero outcomes is very large or small we may need to consider using shrinkage methods instead of our simple linear classifier. "
   ]
  },
  {
   "cell_type": "code",
   "execution_count": null,
   "metadata": {},
   "outputs": [],
   "source": []
  }
 ],
 "metadata": {
  "kernelspec": {
   "display_name": "R",
   "language": "R",
   "name": "ir"
  },
  "language_info": {
   "codemirror_mode": "r",
   "file_extension": ".r",
   "mimetype": "text/x-r-source",
   "name": "R",
   "pygments_lexer": "r",
   "version": "3.5.1"
  }
 },
 "nbformat": 4,
 "nbformat_minor": 2
}
