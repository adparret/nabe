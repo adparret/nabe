{
 "cells": [
  {
   "cell_type": "code",
   "execution_count": 1,
   "metadata": {},
   "outputs": [
    {
     "name": "stderr",
     "output_type": "stream",
     "text": [
      "randomForest 4.6-14\n",
      "Type rfNews() to see new features/changes/bug fixes.\n",
      "-- Attaching packages --------------------------------------- tidyverse 1.2.1 --\n",
      "v ggplot2 3.0.0     v purrr   0.2.5\n",
      "v tibble  1.4.2     v dplyr   0.7.6\n",
      "v tidyr   0.8.1     v stringr 1.3.1\n",
      "v readr   1.1.1     v forcats 0.3.0\n",
      "-- Conflicts ------------------------------------------ tidyverse_conflicts() --\n",
      "x dplyr::combine()  masks randomForest::combine()\n",
      "x dplyr::filter()   masks stats::filter()\n",
      "x dplyr::lag()      masks stats::lag()\n",
      "x ggplot2::margin() masks randomForest::margin()\n"
     ]
    }
   ],
   "source": [
    "list.of.packages = c('randomForest', 'mvtnorm','tidyverse')\n",
    "new.packages = list.of.packages[!(list.of.packages \n",
    "                    %in% installed.packages()[,\"Package\"])]\n",
    "if(length(new.packages)) install.packages(\n",
    "    new.packages,repos='http://cran.us.r-project.org')\n",
    "\n",
    "options(warn=-1)\n",
    "suppressWarnings(library(randomForest, quietly = TRUE, warn.conflicts = FALSE))\n",
    "suppressWarnings(library(mvtnorm, quietly = TRUE, warn.conflicts = FALSE))\n",
    "suppressWarnings(library(tidyverse, quietly = TRUE, warn.conflicts = FALSE))\n",
    "    "
   ]
  },
  {
   "cell_type": "markdown",
   "metadata": {},
   "source": [
    "### In this module you will learn how to:\n",
    "\n",
    "1. Use random forests to estimate a causal model\n",
    "2. correct for the bias when using machine learning tools to estimate causal parameters.\n",
    "\n",
    "## The Data\n",
    "\n",
    "Just like in the first module we will simulate our own data for this section. We are doing this because we want to demonstrate the bias incurred by naive estimation of causal parameters. We will use the canonical example: $Y = D\\theta_0 + g_0(Z) + U$ and $D=m_0(Z)+V$\n",
    "\n",
    "In this framework we have some binary treatment variable $D$ that is additively separable from the controls $Z$.\n",
    "\n",
    "Lets generate some data where $g_0=cos(Z)$ and $m_0=sin(Z)$"
   ]
  },
  {
   "cell_type": "code",
   "execution_count": 2,
   "metadata": {},
   "outputs": [],
   "source": [
    "set.seed(271828)\n",
    "N=1000\n",
    "k=10\n",
    "theta=0.5\n",
    "tmp = rnorm(100)\n",
    "tmp = matrix(tmp,c(10,10))\n",
    "sigma = tmp%*%t(tmp)             \n",
    "b = as.vector(runif(10))\n",
    "z = rmvnorm(N,sigma=sigma)       \n",
    "# Generate the control variables\n",
    "g = as.vector(cos(z%*%b))           \n",
    "# g_function \n",
    "m = as.vector(sin(z%*%b))         \n",
    "# m_function\n",
    "d = m+rnorm(N)                \n",
    "# variable of interest\n",
    "y = theta*d+g+rnorm(N)        \n",
    "# outcome"
   ]
  },
  {
   "cell_type": "markdown",
   "metadata": {},
   "source": [
    "## The Naive Estimator\n",
    "\n",
    "If we directly estimate $Y$ on $D$ and $g(Z)$ the estimate for $\\theta$ will be biased. The naive estimation method is a two-step procedure, but convergence is very fast. First you get an initial value for the treatment effect parameter via a regression $y$ on $D$\n",
    "Once you have this initial value you can build your prediction model and estimate $\\hat{g}$. This process continues until $\\hat{\\theta}$ achieves the desired stability i.e. $\\hat{\\theta}$ doesn't change much from iteration to iteration.\n",
    "\n",
    "To get a sense for how this works consider the following code. We are estimating both of the unknown functions with random forests."
   ]
  },
  {
   "cell_type": "code",
   "execution_count": 3,
   "metadata": {},
   "outputs": [
    {
     "name": "stdout",
     "output_type": "stream",
     "text": [
      "  |======================================================================| 100%\n"
     ]
    }
   ],
   "source": [
    "\n",
    "TE = array(0,dim=c(500))                            \n",
    "# Placeholder for treatment effect coefficient\n",
    "pb = txtProgressBar(min = 0, max = 500, style = 3)\n",
    "\n",
    "for (i in 1:500){\n",
    "    Sys.sleep(0.1)\n",
    "\n",
    "    eps = 1\n",
    "    c = 0\n",
    "    while (eps>1e-1){\n",
    "      if (c==0){\n",
    "        dhat = coef(lm(y~d+0))[1]                     \n",
    "          # Initialize theta\n",
    "        target = y - d*dhat                          \n",
    "          # residual based on estimate for theta\n",
    "        model = randomForest(z,y,                    \n",
    "                maxnodes = 10, ntree = 100)          \n",
    "          # build the model for the g function\n",
    "        G_new = predict(model,z)                      \n",
    "        target = y-G_new                             \n",
    "          # residual based on estimate for g\n",
    "        OLS_new = coef(lm(target~d+0))[1]               \n",
    "      }\n",
    "      target = y - d*OLS_new\n",
    "      model = randomForest(z,target,\n",
    "                           maxnodes = 10, ntree = 100)\n",
    "      G_old = predict(model,z)\n",
    "      target = y-G_old\n",
    "      OLS_old = coef(lm(target~d+0))[1]\n",
    "\n",
    "      eps = abs(OLS_new-OLS_old)                    \n",
    "        # Check stability of parameters\n",
    "      OLS_new = OLS_old                             \n",
    "        # Updates\n",
    "      G_new = G_old\n",
    "    }\n",
    "    setTxtProgressBar(pb, i)\n",
    "    TE[i] = OLS_new\n",
    "}\n",
    "close(pb)\n"
   ]
  },
  {
   "cell_type": "code",
   "execution_count": 4,
   "metadata": {},
   "outputs": [
    {
     "data": {},
     "metadata": {},
     "output_type": "display_data"
    },
    {
     "data": {
      "image/png": "[encoded data removed]",
      "text/plain": [
       "plot without title"
      ]
     },
     "metadata": {},
     "output_type": "display_data"
    }
   ],
   "source": [
    "ggplot(data.frame(TE), aes(TE)) + geom_density(aes(color='Estimated')) + \n",
    "    geom_vline(aes(xintercept = 0.5,color='True')) +\n",
    "    scale_color_manual(name = \"Treatment Effect\", values = c(True = \"red\", Estimated=\"black\"))\n"
   ]
  },
  {
   "cell_type": "markdown",
   "metadata": {},
   "source": [
    "## Naive Estimation Visualized\n",
    "\n",
    "Clearly the estimate here is biased. This isn't terribly surprising as we are ignoring $m$ completely. A step in the right direction is to estimate $m$ and $g$ in a first-stage and then estimate the treatment effect from the residuals. How do we do this? First, we can build a prediction model and estimate the $g$ and $m$ functions. Once we have these, we can get the estimate for $\\hat{\\theta}$ by regressing $y-\\hat{g}$ on $d-\\hat{m}$.\n",
    "\n",
    "Once again we can implement this in R where the models are estimated by random forests.\n"
   ]
  },
  {
   "cell_type": "code",
   "execution_count": 5,
   "metadata": {},
   "outputs": [
    {
     "name": "stdout",
     "output_type": "stream",
     "text": [
      "  |======================================================================| 100%\n"
     ]
    }
   ],
   "source": [
    "\n",
    "TE = array(0,dim=c(500))\n",
    "pb = txtProgressBar(min = 0, max = 500, style = 3)\n",
    "\n",
    "for (i in 1:500){\n",
    "    Sys.sleep(0.1)\n",
    "\n",
    "    model_dz = randomForest(z,d,maxnodes = 10, ntree = 100)\n",
    "    model_yz = randomForest(z,y,maxnodes = 10, ntree = 100)\n",
    "\n",
    "    G_old = predict(model_yz,z)\n",
    "    M_old = predict(model_dz,z)\n",
    "\n",
    "    target_w = y-G_old\n",
    "    explain_v = d-M_old\n",
    "    OLS = coef(lm(target_w~explain_v+0))[1]\n",
    "    setTxtProgressBar(pb, i)\n",
    "\n",
    "    TE[i] = OLS\n",
    "}\n",
    "\n",
    "close(pb)"
   ]
  },
  {
   "cell_type": "code",
   "execution_count": 6,
   "metadata": {},
   "outputs": [
    {
     "data": {},
     "metadata": {},
     "output_type": "display_data"
    },
    {
     "data": {
      "image/png": "[encoded data removed]",
      "text/plain": [
       "plot without title"
      ]
     },
     "metadata": {},
     "output_type": "display_data"
    }
   ],
   "source": [
    "ggplot(data.frame(TE), aes(TE)) + geom_density(aes(color='Estimated')) + \n",
    "    geom_vline(aes(xintercept = 0.5,color='True')) +\n",
    "    scale_color_manual(name = \"Treatment Effect\", values = c(True = \"red\", Estimated=\"black\"))\n"
   ]
  },
  {
   "cell_type": "markdown",
   "metadata": {},
   "source": [
    "## Improved but Still Naive\n",
    "\n",
    "The estimates are still biased, though not as badly. It turns out that we can solve this by splitting our sample. The idea is to use the estimates for $m$ and $g$ obtained on different partions of the sample to compute the estimate of $\\hat{\\theta}$.\n",
    "\n",
    "Using the same random forests, but including a data splitting procedure we have:"
   ]
  },
  {
   "cell_type": "code",
   "execution_count": 7,
   "metadata": {},
   "outputs": [
    {
     "name": "stdout",
     "output_type": "stream",
     "text": [
      "  |======================================================================| 100%\n"
     ]
    }
   ],
   "source": [
    "\n",
    "TE = array(0,dim=c(500))\n",
    "pb = txtProgressBar(min = 0, max = 500, style = 3)\n",
    "\n",
    "for (i in 1:500){\n",
    "    Sys.sleep(0.1)\n",
    "\n",
    "    I=sort(sample(1:N,N/2))\n",
    "    Ic=setdiff(1:N,I)\n",
    "\n",
    "    model_dz1 = randomForest(z[I,],d[I],maxnodes = 10, ntree = 100)\n",
    "    model_dz2 = randomForest(z[Ic,],d[Ic],maxnodes = 10, ntree = 100)\n",
    "\n",
    "    model_yz1 = randomForest(z[I,],y[I],maxnodes = 10, ntree = 100)\n",
    "    model_yz2 = randomForest(z[Ic,],y[Ic],maxnodes = 10, ntree = 100)\n",
    "\n",
    "    G_old1 = predict(model_yz1,z[I,])\n",
    "    G_old2 = predict(model_yz2,z[Ic,])\n",
    "\n",
    "    M_old1 = predict(model_dz1,z[I,])\n",
    "    M_old2 = predict(model_dz2,z[Ic,])\n",
    "\n",
    "    target_w1 = y-G_old1\n",
    "    target_w2 = y-G_old2\n",
    "\n",
    "    explain_v1 = d-M_old1\n",
    "    explain_v2 = d-M_old2\n",
    "\n",
    "    OLS_old1 = coef(lm(target_w2~explain_v1+0))[1]\n",
    "    OLS_old2 = coef(lm(target_w1~explain_v2+0))[1]\n",
    "    OLS = mean(cbind(OLS_old1,OLS_old2))\n",
    "    \n",
    "    setTxtProgressBar(pb, i)\n",
    "\n",
    "    TE[i] = OLS\n",
    "}\n",
    "close(pb)\n"
   ]
  },
  {
   "cell_type": "code",
   "execution_count": 8,
   "metadata": {},
   "outputs": [
    {
     "data": {},
     "metadata": {},
     "output_type": "display_data"
    },
    {
     "data": {
      "image/png": "[encoded data removed]",
      "text/plain": [
       "plot without title"
      ]
     },
     "metadata": {},
     "output_type": "display_data"
    }
   ],
   "source": [
    "ggplot(data.frame(TE), aes(TE)) + geom_density(aes(color='Estimated')) + \n",
    "    geom_vline(aes(xintercept = 0.5,color='True')) +\n",
    "    scale_color_manual(name = \"Treatment Effect\", values = c(True = \"red\", Estimated=\"black\"))\n"
   ]
  },
  {
   "cell_type": "markdown",
   "metadata": {},
   "source": [
    "## Double Machine Learning\n",
    "\n",
    "This strategy works quite well as the bias is almost completely eliminated. Naturally the estimator will have a larger variance as it only uses half of the sample. However, one can employ other methods to reduce the dispersion of the estimator."
   ]
  },
  {
   "cell_type": "markdown",
   "metadata": {},
   "source": [
    "## Exercise: Module 6\n",
    "\n",
    "In this module we have learned how to use random forests for causal estimation. We have seen that if we naively estimate the model there will be significant bias in the parameter of interest. However, we can correct for that bias through the use of residualizing and more importantly sample splitting. Just like we did in the random forest section we want to see how the results change if we modify the tuning parameters for the forests.\n",
    "\n",
    "1. Re-estimate the model using double ML with different tuning parameters for the random forest\n",
    "2. Change the maxnodes to 20\n",
    "3. Change the number of trees to 200\n",
    "4. How does this effect the results?"
   ]
  },
  {
   "cell_type": "code",
   "execution_count": 9,
   "metadata": {},
   "outputs": [
    {
     "name": "stdout",
     "output_type": "stream",
     "text": [
      "  |======================================================================| 100%\n"
     ]
    },
    {
     "data": {},
     "metadata": {},
     "output_type": "display_data"
    },
    {
     "data": {
      "image/png": "[encoded data removed]",
      "text/plain": [
       "plot without title"
      ]
     },
     "metadata": {},
     "output_type": "display_data"
    }
   ],
   "source": [
    "\n",
    "TE = array(0,dim=c(500))\n",
    "pb = txtProgressBar(min = 0, max = 500, style = 3)\n",
    "\n",
    "for (i in 1:500){\n",
    "    Sys.sleep(0.1)\n",
    "\n",
    "    I=sort(sample(1:N,N/2))\n",
    "    Ic=setdiff(1:N,I)\n",
    "\n",
    "    model_dz1 = randomForest(z[I,],d[I],maxnodes = 20, ntree = 100)\n",
    "    model_dz2 = randomForest(z[Ic,],d[Ic],maxnodes = 20, ntree = 100)\n",
    "\n",
    "    model_yz1 = randomForest(z[I,],y[I],maxnodes = 20, ntree = 100)\n",
    "    model_yz2 = randomForest(z[Ic,],y[Ic],maxnodes = 20, ntree = 100)\n",
    "\n",
    "    G_old1 = predict(model_yz1,z[I,])\n",
    "    G_old2 = predict(model_yz2,z[Ic,])\n",
    "\n",
    "    M_old1 = predict(model_dz1,z[I,])\n",
    "    M_old2 = predict(model_dz2,z[Ic,])\n",
    "\n",
    "    target_w1 = y-G_old1\n",
    "    target_w2 = y-G_old2\n",
    "\n",
    "    explain_v1 = d-M_old1\n",
    "    explain_v2 = d-M_old2\n",
    "\n",
    "    OLS_old1 = coef(lm(target_w2~explain_v1+0))[1]\n",
    "    OLS_old2 = coef(lm(target_w1~explain_v2+0))[1]\n",
    "    OLS = mean(cbind(OLS_old1,OLS_old2))\n",
    "    \n",
    "    setTxtProgressBar(pb, i)\n",
    "\n",
    "    TE[i] = OLS\n",
    "}\n",
    "close(pb)\n",
    "\n",
    "ggplot(data.frame(TE), aes(TE)) + geom_density(aes(color='Estimated')) + \n",
    "    geom_vline(aes(xintercept = 0.5,color='True')) +\n",
    "    scale_color_manual(name = \"Treatment Effect\", values = c(True = \"red\", Estimated=\"black\"))\n"
   ]
  },
  {
   "cell_type": "code",
   "execution_count": 10,
   "metadata": {},
   "outputs": [
    {
     "name": "stdout",
     "output_type": "stream",
     "text": [
      "  |======================================================================| 100%\n"
     ]
    },
    {
     "data": {},
     "metadata": {},
     "output_type": "display_data"
    },
    {
     "data": {
      "image/png": "[encoded data removed]",
      "text/plain": [
       "plot without title"
      ]
     },
     "metadata": {},
     "output_type": "display_data"
    }
   ],
   "source": [
    "\n",
    "TE = array(0,dim=c(500))\n",
    "pb = txtProgressBar(min = 0, max = 500, style = 3)\n",
    "\n",
    "for (i in 1:500){\n",
    "    Sys.sleep(0.1)\n",
    "\n",
    "    I=sort(sample(1:N,N/2))\n",
    "    Ic=setdiff(1:N,I)\n",
    "\n",
    "    model_dz1 = randomForest(z[I,],d[I],maxnodes = 10, ntree = 200)\n",
    "    model_dz2 = randomForest(z[Ic,],d[Ic],maxnodes = 10, ntree = 200)\n",
    "\n",
    "    model_yz1 = randomForest(z[I,],y[I],maxnodes = 10, ntree = 200)\n",
    "    model_yz2 = randomForest(z[Ic,],y[Ic],maxnodes = 10, ntree = 200)\n",
    "\n",
    "    G_old1 = predict(model_yz1,z[I,])\n",
    "    G_old2 = predict(model_yz2,z[Ic,])\n",
    "\n",
    "    M_old1 = predict(model_dz1,z[I,])\n",
    "    M_old2 = predict(model_dz2,z[Ic,])\n",
    "\n",
    "    target_w1 = y-G_old1\n",
    "    target_w2 = y-G_old2\n",
    "\n",
    "    explain_v1 = d-M_old1\n",
    "    explain_v2 = d-M_old2\n",
    "\n",
    "    OLS_old1 = coef(lm(target_w2~explain_v1+0))[1]\n",
    "    OLS_old2 = coef(lm(target_w1~explain_v2+0))[1]\n",
    "    OLS = mean(cbind(OLS_old1,OLS_old2))\n",
    "    \n",
    "    setTxtProgressBar(pb, i)\n",
    "\n",
    "    TE[i] = OLS\n",
    "}\n",
    "close(pb)\n",
    "\n",
    "ggplot(data.frame(TE), aes(TE)) + geom_density(aes(color='Estimated')) + \n",
    "    geom_vline(aes(xintercept = 0.5,color='True')) +\n",
    "    scale_color_manual(name = \"Treatment Effect\", values = c(True = \"red\", Estimated=\"black\"))\n"
   ]
  },
  {
   "cell_type": "markdown",
   "metadata": {},
   "source": [
    "It looks like increasing the max_node ends up biasing the estimation in the other direction. However, if we increase the number of trees we achieve about the same results with maybe a slight variance reduction."
   ]
  }
 ],
 "metadata": {
  "kernelspec": {
   "display_name": "R",
   "language": "R",
   "name": "ir"
  },
  "language_info": {
   "codemirror_mode": "r",
   "file_extension": ".r",
   "mimetype": "text/x-r-source",
   "name": "R",
   "pygments_lexer": "r",
   "version": "3.5.1"
  }
 },
 "nbformat": 4,
 "nbformat_minor": 2
}
