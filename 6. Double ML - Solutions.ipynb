{
 "cells": [
  {
   "cell_type": "code",
   "execution_count": 5,
   "metadata": {},
   "outputs": [
    {
     "name": "stderr",
     "output_type": "stream",
     "text": [
      "randomForest 4.6-12\n",
      "Type rfNews() to see new features/changes/bug fixes.\n"
     ]
    }
   ],
   "source": [
    "list.of.packages = c('randomForest', 'mvtnorm','tidyverse')\n",
    "new.packages = list.of.packages[!(list.of.packages \n",
    "                    %in% installed.packages()[,\"Package\"])]\n",
    "if(length(new.packages)) install.packages(\n",
    "    new.packages,repos='http://cran.us.r-project.org')\n",
    "\n",
    "options(warn=-1)\n",
    "suppressWarnings(library(randomForest, quietly = TRUE, warn.conflicts = FALSE))\n",
    "suppressWarnings(library(mvtnorm, quietly = TRUE, warn.conflicts = FALSE))\n",
    "suppressWarnings(library(tidyverse, quietly = TRUE, warn.conflicts = FALSE))\n",
    "    "
   ]
  },
  {
   "cell_type": "markdown",
   "metadata": {},
   "source": [
    "In this module we will see how to correct for the bias when using machine learning tools to estimate causal parameters.\n",
    "\n",
    "Consider the canonical example: $Y = D\\theta_0 + g_0(Z) + U$ and $D=m_0(Z)+V$\n",
    "\n",
    "We have some binary treatment variable $D$ that is additively separable from the controls $Z$.\n",
    "\n",
    "Lets generate some data where $g_0=cos(Z)$ and $m_0=sin(Z)$"
   ]
  },
  {
   "cell_type": "code",
   "execution_count": 6,
   "metadata": {},
   "outputs": [],
   "source": [
    "set.seed(271828)\n",
    "N=1000\n",
    "k=10\n",
    "theta=0.5\n",
    "tmp = rnorm(100)\n",
    "tmp = matrix(tmp,c(10,10))\n",
    "sigma = tmp%*%t(tmp)             \n",
    "b = as.vector(runif(10))\n",
    "z = rmvnorm(N,sigma=sigma)       \n",
    "# Generate the control variables\n",
    "g = as.vector(cos(z%*%b))           \n",
    "# g_function \n",
    "m = as.vector(sin(z%*%b))         \n",
    "# m_function\n",
    "d = m+rnorm(N)                \n",
    "# variable of interest\n",
    "y = theta*d+g+rnorm(N)        \n",
    "# outcome"
   ]
  },
  {
   "cell_type": "markdown",
   "metadata": {},
   "source": [
    "If we directly estimate $Y$ on $D$ and $g(Z)$ the estimate for $\\theta$ will be biased.\n",
    "\n",
    "\n",
    "The naive estimation method is a two-step procedure, but convergence is very fast.\n",
    "First you get an initial value for the treatment effect parameter via a regression $y$ on $D$\n",
    "Once you have this initial value you can build your prediction model and estimate $\\hat{g}$.\n",
    "\n",
    "Iterate back and forth until $\\hat{\\theta}$ achieves desired stability"
   ]
  },
  {
   "cell_type": "code",
   "execution_count": 19,
   "metadata": {},
   "outputs": [
    {
     "name": "stdout",
     "output_type": "stream",
     "text": [
      "  |======================================================================| 100%\n"
     ]
    }
   ],
   "source": [
    "\n",
    "TE = array(0,dim=c(500))                            \n",
    "# Placeholder for treatment effect coefficient\n",
    "pb = txtProgressBar(min = 0, max = 500, style = 3)\n",
    "\n",
    "for (i in 1:500){\n",
    "    Sys.sleep(0.1)\n",
    "\n",
    "    eps = 1\n",
    "    c = 0\n",
    "    while (eps>1e-1){\n",
    "      if (c==0){\n",
    "        dhat = coef(lm(y~d+0))[1]                     \n",
    "          # Initialize theta\n",
    "        target = y - d*dhat                          \n",
    "          # residual based on estimate for theta\n",
    "        model = randomForest(z,y,                    \n",
    "                maxnodes = 10, ntree = 100)          \n",
    "          # build the model for the g function\n",
    "        G_new = predict(model,z)                      \n",
    "        target = y-G_new                             \n",
    "          # residual based on estimate for g\n",
    "        OLS_new = coef(lm(target~d+0))[1]               \n",
    "      }\n",
    "      target = y - d*OLS_new\n",
    "      model = randomForest(z,target,\n",
    "                           maxnodes = 10, ntree = 100)\n",
    "      G_old = predict(model,z)\n",
    "      target = y-G_old\n",
    "      OLS_old = coef(lm(target~d+0))[1]\n",
    "\n",
    "      eps = abs(OLS_new-OLS_old)                    \n",
    "        # Check stability of parameters\n",
    "      OLS_new = OLS_old                             \n",
    "        # Updates\n",
    "      G_new = G_old\n",
    "    }\n",
    "    setTxtProgressBar(pb, i)\n",
    "    TE[i] = OLS_new\n",
    "}\n",
    "close(pb)\n"
   ]
  },
  {
   "cell_type": "code",
   "execution_count": 20,
   "metadata": {},
   "outputs": [
    {
     "data": {},
     "metadata": {},
     "output_type": "display_data"
    },
    {
     "data": {
      "image/png": "[encoded data removed]",
      "text/plain": [
       "plot without title"
      ]
     },
     "metadata": {},
     "output_type": "display_data"
    }
   ],
   "source": [
    "ggplot(data.frame(TE), aes(TE)) + geom_density() + \n",
    "    geom_vline(xintercept = 0.5,color='red')"
   ]
  },
  {
   "cell_type": "markdown",
   "metadata": {},
   "source": [
    "Clearly the estimate here is biased. This isn't terribly surprising as we are ignoring $m$ completely.\n",
    "\n",
    "A step in the right direction is to estimate $m$ and $g$ in a first-stage and then estimate the treatment effect from the residuals.\n",
    "\n",
    "First, we can build a prediction model and estimate the $g$ and $m$ functions. Once we have these, we can get the estimate for $\\hat{\\theta}$ by regressing $y-\\hat{g}$ on $d-\\hat{m}$\n"
   ]
  },
  {
   "cell_type": "code",
   "execution_count": 23,
   "metadata": {},
   "outputs": [
    {
     "name": "stdout",
     "output_type": "stream",
     "text": [
      "  |======================================================================| 100%\n"
     ]
    }
   ],
   "source": [
    "\n",
    "TE = array(0,dim=c(500))\n",
    "pb = txtProgressBar(min = 0, max = 500, style = 3)\n",
    "\n",
    "for (i in 1:500){\n",
    "    Sys.sleep(0.1)\n",
    "\n",
    "    model_dz = randomForest(z,d,maxnodes = 10, ntree = 100)\n",
    "    model_yz = randomForest(z,y,maxnodes = 10, ntree = 100)\n",
    "\n",
    "    G_old = predict(model_yz,z)\n",
    "    M_old = predict(model_dz,z)\n",
    "\n",
    "    target_w = y-G_old\n",
    "    explain_v = d-M_old\n",
    "    OLS = coef(lm(target_w~explain_v+0))[1]\n",
    "    setTxtProgressBar(pb, i)\n",
    "\n",
    "    TE[i] = OLS\n",
    "}\n",
    "\n",
    "close(pb)"
   ]
  },
  {
   "cell_type": "code",
   "execution_count": 24,
   "metadata": {},
   "outputs": [
    {
     "data": {},
     "metadata": {},
     "output_type": "display_data"
    },
    {
     "data": {
      "image/png": "[encoded data removed]",
      "text/plain": [
       "plot without title"
      ]
     },
     "metadata": {},
     "output_type": "display_data"
    }
   ],
   "source": [
    "ggplot(data.frame(TE), aes(TE)) + geom_density() + \n",
    "geom_vline(xintercept = 0.5,color='red')"
   ]
  },
  {
   "cell_type": "markdown",
   "metadata": {},
   "source": [
    "The estimates are still biased, though not as badly.\n",
    "\n",
    "It turns out that we can solve this by splitting our sample.\n",
    "\n",
    "The idea is to use the estimates for $m$ and $g$ obtained on different partions of the sample to compute the estimate of $\\hat{\\theta}$."
   ]
  },
  {
   "cell_type": "code",
   "execution_count": 25,
   "metadata": {},
   "outputs": [
    {
     "name": "stdout",
     "output_type": "stream",
     "text": [
      "  |======================================================================| 100%\n"
     ]
    }
   ],
   "source": [
    "\n",
    "TE = array(0,dim=c(500))\n",
    "pb = txtProgressBar(min = 0, max = 500, style = 3)\n",
    "\n",
    "for (i in 1:500){\n",
    "    Sys.sleep(0.1)\n",
    "\n",
    "    I=sort(sample(1:N,N/2))\n",
    "    Ic=setdiff(1:N,I)\n",
    "\n",
    "    model_dz1 = randomForest(z[I,],d[I],maxnodes = 10, ntree = 100)\n",
    "    model_dz2 = randomForest(z[Ic,],d[Ic],maxnodes = 10, ntree = 100)\n",
    "\n",
    "    model_yz1 = randomForest(z[I,],y[I],maxnodes = 10, ntree = 100)\n",
    "    model_yz2 = randomForest(z[Ic,],y[Ic],maxnodes = 10, ntree = 100)\n",
    "\n",
    "    G_old1 = predict(model_yz1,z[I,])\n",
    "    G_old2 = predict(model_yz2,z[Ic,])\n",
    "\n",
    "    M_old1 = predict(model_dz1,z[I,])\n",
    "    M_old2 = predict(model_dz2,z[Ic,])\n",
    "\n",
    "    target_w1 = y-G_old1\n",
    "    target_w2 = y-G_old2\n",
    "\n",
    "    explain_v1 = d-M_old1\n",
    "    explain_v2 = d-M_old2\n",
    "\n",
    "    OLS_old1 = coef(lm(target_w2~explain_v1+0))[1]\n",
    "    OLS_old2 = coef(lm(target_w1~explain_v2+0))[1]\n",
    "    OLS = mean(cbind(OLS_old1,OLS_old2))\n",
    "    \n",
    "    setTxtProgressBar(pb, i)\n",
    "\n",
    "    TE[i] = OLS\n",
    "}\n",
    "close(pb)\n"
   ]
  },
  {
   "cell_type": "code",
   "execution_count": 26,
   "metadata": {},
   "outputs": [
    {
     "data": {},
     "metadata": {},
     "output_type": "display_data"
    },
    {
     "data": {
      "image/png": "[encoded data removed]",
      "text/plain": [
       "plot without title"
      ]
     },
     "metadata": {},
     "output_type": "display_data"
    }
   ],
   "source": [
    "ggplot(data.frame(TE), aes(TE)) + geom_density() + \n",
    "geom_vline(xintercept = 0.5,color='red')"
   ]
  },
  {
   "cell_type": "markdown",
   "metadata": {},
   "source": [
    "This strategy works quite well as the bias is almost completely eliminated.\n",
    "\n",
    "Naturally the estimator will have a larger variance as it only uses half of the sample. However, one can employ other methods to reduce the dispersion of the estimator."
   ]
  },
  {
   "cell_type": "markdown",
   "metadata": {},
   "source": [
    "EXERCISE:\n",
    "\n",
    "Change the tuning parameters (maxnodes, numtrees, etc) for the random forests in the double-ML estimator. How does this effect the results?"
   ]
  },
  {
   "cell_type": "code",
   "execution_count": 27,
   "metadata": {},
   "outputs": [
    {
     "name": "stdout",
     "output_type": "stream",
     "text": [
      "  |======================================================================| 100%\n"
     ]
    },
    {
     "data": {},
     "metadata": {},
     "output_type": "display_data"
    },
    {
     "data": {
      "image/png": "[encoded data removed]",
      "text/plain": [
       "plot without title"
      ]
     },
     "metadata": {},
     "output_type": "display_data"
    }
   ],
   "source": [
    "\n",
    "TE = array(0,dim=c(500))\n",
    "pb = txtProgressBar(min = 0, max = 500, style = 3)\n",
    "\n",
    "for (i in 1:500){\n",
    "    Sys.sleep(0.1)\n",
    "\n",
    "    I=sort(sample(1:N,N/2))\n",
    "    Ic=setdiff(1:N,I)\n",
    "\n",
    "    model_dz1 = randomForest(z[I,],d[I],maxnodes = 15, ntree = 200)\n",
    "    model_dz2 = randomForest(z[Ic,],d[Ic],maxnodes = 15, ntree = 200)\n",
    "\n",
    "    model_yz1 = randomForest(z[I,],y[I],maxnodes = 15, ntree = 200)\n",
    "    model_yz2 = randomForest(z[Ic,],y[Ic],maxnodes = 15, ntree = 200)\n",
    "\n",
    "    G_old1 = predict(model_yz1,z[I,])\n",
    "    G_old2 = predict(model_yz2,z[Ic,])\n",
    "\n",
    "    M_old1 = predict(model_dz1,z[I,])\n",
    "    M_old2 = predict(model_dz2,z[Ic,])\n",
    "\n",
    "    target_w1 = y-G_old1\n",
    "    target_w2 = y-G_old2\n",
    "\n",
    "    explain_v1 = d-M_old1\n",
    "    explain_v2 = d-M_old2\n",
    "\n",
    "    OLS_old1 = coef(lm(target_w2~explain_v1+0))[1]\n",
    "    OLS_old2 = coef(lm(target_w1~explain_v2+0))[1]\n",
    "    OLS = mean(cbind(OLS_old1,OLS_old2))\n",
    "    \n",
    "    setTxtProgressBar(pb, i)\n",
    "\n",
    "    TE[i] = OLS\n",
    "}\n",
    "close(pb)\n",
    "\n",
    "ggplot(data.frame(TE), aes(TE)) + geom_density() + \n",
    "geom_vline(xintercept = 0.5,color='red')"
   ]
  }
 ],
 "metadata": {
  "kernelspec": {
   "display_name": "R",
   "language": "R",
   "name": "ir"
  },
  "language_info": {
   "codemirror_mode": "r",
   "file_extension": ".r",
   "mimetype": "text/x-r-source",
   "name": "R",
   "pygments_lexer": "r",
   "version": "3.4.2"
  }
 },
 "nbformat": 4,
 "nbformat_minor": 2
}
