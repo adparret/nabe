{
 "cells": [
  {
   "cell_type": "code",
   "execution_count": 14,
   "metadata": {},
   "outputs": [],
   "source": [
    "list.of.packages = c('rpart','caret','ggplot2','randomForest',\n",
    "                     'tidyverse','ranger','e1071','rpart.plot')\n",
    "new.packages = list.of.packages[!(list.of.packages \n",
    "                      %in% installed.packages()[,\"Package\"])]\n",
    "if(length(new.packages)) install.packages(new.packages,\n",
    "                        repos='http://cran.us.r-project.org')\n",
    "\n",
    "options(warn=-1)\n",
    "suppressWarnings(library(rpart, quietly = TRUE, warn.conflicts = FALSE))\n",
    "suppressWarnings(library(rpart.plot, quietly = TRUE, warn.conflicts = FALSE))\n",
    "suppressWarnings(library(ggplot2, quietly = TRUE, warn.conflicts = FALSE))\n",
    "suppressWarnings(library(tidyverse, quietly = TRUE, warn.conflicts = FALSE))\n",
    "suppressWarnings(library(ranger, quietly = TRUE, warn.conflicts = FALSE))\n",
    "suppressWarnings(library(e1071, quietly = TRUE, warn.conflicts = FALSE))\n",
    "suppressWarnings(library(caret, quietly = TRUE, warn.conflicts = FALSE))\n",
    "suppressWarnings(library(randomForest, quietly = TRUE, warn.conflicts = FALSE))\n"
   ]
  },
  {
   "cell_type": "markdown",
   "metadata": {},
   "source": [
    "In this module we will re-examine the Housing data. \n",
    "\n",
    "However, instead of assuming the model is linear ($Y = X\\beta + \\varepsilon$) we will be agnostic about functional form.\n",
    "\n",
    "Let $Y=g(X)+\\varepsilon$. To estimate the unknown function $g(X)$, we will use Regression Trees and Forests."
   ]
  },
  {
   "cell_type": "code",
   "execution_count": 13,
   "metadata": {},
   "outputs": [
    {
     "name": "stdout",
     "output_type": "stream",
     "text": [
      "Dataset dimesions:  51808 212"
     ]
    },
    {
     "data": {
      "text/html": [
       "<table>\n",
       "<thead><tr><th scope=col>LOGVALUE</th><th scope=col>LOT</th><th scope=col>UNITSF</th><th scope=col>CLIMB</th><th scope=col>DIRAC</th><th scope=col>NUMAIR</th><th scope=col>BUSPER</th><th scope=col>EXCLUS</th><th scope=col>HOWH</th><th scope=col>NUMCOLD</th></tr></thead>\n",
       "<tbody>\n",
       "\t<tr><td>13.48701 </td><td> 5900.00 </td><td>3000     </td><td>2.011952 </td><td>1.51928  </td><td>1.730885 </td><td>0        </td><td>0        </td><td> 8.000000</td><td>1.828194 </td></tr>\n",
       "\t<tr><td>13.21767 </td><td>43925.93 </td><td>1600     </td><td>2.011952 </td><td>1.51928  </td><td>1.730885 </td><td>0        </td><td>0        </td><td> 9.000000</td><td>1.828194 </td></tr>\n",
       "\t<tr><td>13.48701 </td><td> 5900.00 </td><td>2500     </td><td>2.011952 </td><td>1.51928  </td><td>1.730885 </td><td>0        </td><td>0        </td><td> 8.555945</td><td>1.828194 </td></tr>\n",
       "\t<tr><td>13.01700 </td><td> 2000.00 </td><td>1600     </td><td>2.011952 </td><td>1.51928  </td><td>1.730885 </td><td>1        </td><td>0        </td><td> 9.000000</td><td>1.828194 </td></tr>\n",
       "\t<tr><td>13.45884 </td><td> 6000.00 </td><td>2750     </td><td>2.011952 </td><td>1.51928  </td><td>1.730885 </td><td>0        </td><td>0        </td><td>10.000000</td><td>1.828194 </td></tr>\n",
       "\t<tr><td>13.51441 </td><td> 5500.00 </td><td>2350     </td><td>2.011952 </td><td>0.00000  </td><td>1.730885 </td><td>0        </td><td>1        </td><td>10.000000</td><td>1.828194 </td></tr>\n",
       "\t<tr><td>13.21767 </td><td> 6000.00 </td><td>1901     </td><td>2.011952 </td><td>1.51928  </td><td>1.730885 </td><td>0        </td><td>0        </td><td>10.000000</td><td>1.828194 </td></tr>\n",
       "\t<tr><td>14.07787 </td><td> 6500.00 </td><td>5700     </td><td>2.011952 </td><td>1.51928  </td><td>1.730885 </td><td>0        </td><td>0        </td><td>10.000000</td><td>1.828194 </td></tr>\n",
       "\t<tr><td>14.22098 </td><td>10000.00 </td><td>5700     </td><td>2.011952 </td><td>1.00000  </td><td>1.730885 </td><td>0        </td><td>1        </td><td>10.000000</td><td>1.828194 </td></tr>\n",
       "\t<tr><td>11.54248 </td><td> 9000.00 </td><td>2300     </td><td>2.011952 </td><td>1.51928  </td><td>1.730885 </td><td>0        </td><td>0        </td><td>10.000000</td><td>1.828194 </td></tr>\n",
       "</tbody>\n",
       "</table>\n"
      ],
      "text/latex": [
       "\\begin{tabular}{r|llllllllll}\n",
       " LOGVALUE & LOT & UNITSF & CLIMB & DIRAC & NUMAIR & BUSPER & EXCLUS & HOWH & NUMCOLD\\\\\n",
       "\\hline\n",
       "\t 13.48701  &  5900.00  & 3000      & 2.011952  & 1.51928   & 1.730885  & 0         & 0         &  8.000000 & 1.828194 \\\\\n",
       "\t 13.21767  & 43925.93  & 1600      & 2.011952  & 1.51928   & 1.730885  & 0         & 0         &  9.000000 & 1.828194 \\\\\n",
       "\t 13.48701  &  5900.00  & 2500      & 2.011952  & 1.51928   & 1.730885  & 0         & 0         &  8.555945 & 1.828194 \\\\\n",
       "\t 13.01700  &  2000.00  & 1600      & 2.011952  & 1.51928   & 1.730885  & 1         & 0         &  9.000000 & 1.828194 \\\\\n",
       "\t 13.45884  &  6000.00  & 2750      & 2.011952  & 1.51928   & 1.730885  & 0         & 0         & 10.000000 & 1.828194 \\\\\n",
       "\t 13.51441  &  5500.00  & 2350      & 2.011952  & 0.00000   & 1.730885  & 0         & 1         & 10.000000 & 1.828194 \\\\\n",
       "\t 13.21767  &  6000.00  & 1901      & 2.011952  & 1.51928   & 1.730885  & 0         & 0         & 10.000000 & 1.828194 \\\\\n",
       "\t 14.07787  &  6500.00  & 5700      & 2.011952  & 1.51928   & 1.730885  & 0         & 0         & 10.000000 & 1.828194 \\\\\n",
       "\t 14.22098  & 10000.00  & 5700      & 2.011952  & 1.00000   & 1.730885  & 0         & 1         & 10.000000 & 1.828194 \\\\\n",
       "\t 11.54248  &  9000.00  & 2300      & 2.011952  & 1.51928   & 1.730885  & 0         & 0         & 10.000000 & 1.828194 \\\\\n",
       "\\end{tabular}\n"
      ],
      "text/markdown": [
       "\n",
       "LOGVALUE | LOT | UNITSF | CLIMB | DIRAC | NUMAIR | BUSPER | EXCLUS | HOWH | NUMCOLD | \n",
       "|---|---|---|---|---|---|---|---|---|---|\n",
       "| 13.48701  |  5900.00  | 3000      | 2.011952  | 1.51928   | 1.730885  | 0         | 0         |  8.000000 | 1.828194  | \n",
       "| 13.21767  | 43925.93  | 1600      | 2.011952  | 1.51928   | 1.730885  | 0         | 0         |  9.000000 | 1.828194  | \n",
       "| 13.48701  |  5900.00  | 2500      | 2.011952  | 1.51928   | 1.730885  | 0         | 0         |  8.555945 | 1.828194  | \n",
       "| 13.01700  |  2000.00  | 1600      | 2.011952  | 1.51928   | 1.730885  | 1         | 0         |  9.000000 | 1.828194  | \n",
       "| 13.45884  |  6000.00  | 2750      | 2.011952  | 1.51928   | 1.730885  | 0         | 0         | 10.000000 | 1.828194  | \n",
       "| 13.51441  |  5500.00  | 2350      | 2.011952  | 0.00000   | 1.730885  | 0         | 1         | 10.000000 | 1.828194  | \n",
       "| 13.21767  |  6000.00  | 1901      | 2.011952  | 1.51928   | 1.730885  | 0         | 0         | 10.000000 | 1.828194  | \n",
       "| 14.07787  |  6500.00  | 5700      | 2.011952  | 1.51928   | 1.730885  | 0         | 0         | 10.000000 | 1.828194  | \n",
       "| 14.22098  | 10000.00  | 5700      | 2.011952  | 1.00000   | 1.730885  | 0         | 1         | 10.000000 | 1.828194  | \n",
       "| 11.54248  |  9000.00  | 2300      | 2.011952  | 1.51928   | 1.730885  | 0         | 0         | 10.000000 | 1.828194  | \n",
       "\n",
       "\n"
      ],
      "text/plain": [
       "   LOGVALUE LOT      UNITSF CLIMB    DIRAC   NUMAIR   BUSPER EXCLUS HOWH     \n",
       "1  13.48701  5900.00 3000   2.011952 1.51928 1.730885 0      0       8.000000\n",
       "2  13.21767 43925.93 1600   2.011952 1.51928 1.730885 0      0       9.000000\n",
       "3  13.48701  5900.00 2500   2.011952 1.51928 1.730885 0      0       8.555945\n",
       "4  13.01700  2000.00 1600   2.011952 1.51928 1.730885 1      0       9.000000\n",
       "5  13.45884  6000.00 2750   2.011952 1.51928 1.730885 0      0      10.000000\n",
       "6  13.51441  5500.00 2350   2.011952 0.00000 1.730885 0      1      10.000000\n",
       "7  13.21767  6000.00 1901   2.011952 1.51928 1.730885 0      0      10.000000\n",
       "8  14.07787  6500.00 5700   2.011952 1.51928 1.730885 0      0      10.000000\n",
       "9  14.22098 10000.00 5700   2.011952 1.00000 1.730885 0      1      10.000000\n",
       "10 11.54248  9000.00 2300   2.011952 1.51928 1.730885 0      0      10.000000\n",
       "   NUMCOLD \n",
       "1  1.828194\n",
       "2  1.828194\n",
       "3  1.828194\n",
       "4  1.828194\n",
       "5  1.828194\n",
       "6  1.828194\n",
       "7  1.828194\n",
       "8  1.828194\n",
       "9  1.828194\n",
       "10 1.828194"
      ]
     },
     "metadata": {},
     "output_type": "display_data"
    }
   ],
   "source": [
    "Housing = read.csv('ahs_clean.csv')   \n",
    "# Reads csv files into R\n",
    "\n",
    "cat('Dataset dimesions: ',dim(Housing))                  \n",
    "# Returns the dimension of the dataset             \n",
    "\n",
    "Housing$LOGSQFT = log(Housing$UNITSF)\n",
    "Housing$LOGLOT = log(Housing$LOT)\n",
    "\n",
    "Housing[1:10,1:10]                                         \n",
    "# Examine the first few rows and columns of our data                \n"
   ]
  },
  {
   "cell_type": "markdown",
   "metadata": {},
   "source": [
    "Since we already examined this data, let's go ahead and use the larger model with 60 covariates."
   ]
  },
  {
   "cell_type": "code",
   "execution_count": 3,
   "metadata": {},
   "outputs": [],
   "source": [
    "#Splitting the data\n",
    "\n",
    "data_split = function(data,split=.1){\n",
    "\n",
    "    N = dim(data)[1]                         \n",
    "    random = sample(1:N,N,replace=F)          \n",
    "    # Randomly choose the index for the splits\n",
    "    data = data[random,]                      \n",
    "    # Shuffle data\n",
    "    test = data[1:round(N*split),]            \n",
    "    # Splits\n",
    "    train = data[(round(N*split)+1):N,]\n",
    "\n",
    "    \n",
    "    return(list(train,test))\n",
    "}\n",
    "\n",
    "\n",
    "tmp = data_split(Housing) \n",
    "train_test = tmp[[1]]\n",
    "validation = tmp[[2]]"
   ]
  },
  {
   "cell_type": "code",
   "execution_count": 4,
   "metadata": {
    "scrolled": false
   },
   "outputs": [],
   "source": [
    "train1 = train_test[c('LOGVALUE','LOGLOT','LOGSQFT','BEDRMS','BATHS',\n",
    "                      'REGION','METRO','KITCHEN','DISH','WASH','DRY',\n",
    "                      'COOK','DENS','DINING','FAMRM','HALFB','LIVING',\n",
    "                      'OTHFN','RECRM','PORCH','SINK','LAUNDY','FLOORS',\n",
    "                      'CONDO','ROOMS','PLUMB','NOWIRE','AGE')]\n",
    "\n",
    "train1 = cbind(train1,select(train_test,starts_with('Roach')),\n",
    "               select(train_test,starts_with('Rats')),\n",
    "              select(train_test,starts_with('Water')),\n",
    "               select(train_test,starts_with('Cellar')),\n",
    "               select(train_test,starts_with('Num')),\n",
    "               select(train_test,starts_with('Freeze')))\n",
    "\n",
    "\n",
    "val1 = validation[colnames(train1)]\n"
   ]
  },
  {
   "cell_type": "markdown",
   "metadata": {},
   "source": [
    "In the MSE case the regression tree will predict: \n",
    "\n",
    "$\\hat{c}_m = \\frac{\\sum_i y_i 1(x\\in R_m)}{\\sum_i 1(x\\in R_m)}$, which is nothing more than the average outcome given the covariate values in the region.\n",
    "\n",
    "\n",
    "When fitting a regression tree one needs to decide how to generate the splits that make up the tree. Further one needs to decide how deep to make the tree. There are different data-driven approaches to making these selections. In this module we will choose the model based on the complexity:\n",
    "\n",
    "$C_\\alpha(T) = \\sum_m N_m Q_m(T) + \\alpha |T|$\n",
    "\n",
    "$N_m$ is the number of observations in node $m$\n",
    "\n",
    "$|T|$ is the number of terminal nodes in tree T\n",
    "\n",
    "$Q_m(T)=\\frac{1}{N_m} \\sum_{i:x_i\\in R_m} (y_i-\\hat{c}_m)^2$\n",
    "\n",
    "Instead of manually choosing the depth of our tree, we will use Carat to tune the penalty $\\alpha$."
   ]
  },
  {
   "cell_type": "code",
   "execution_count": 5,
   "metadata": {},
   "outputs": [
    {
     "data": {
      "text/html": [
       "<table>\n",
       "<thead><tr><th scope=col>cp</th><th scope=col>RMSE</th><th scope=col>Rsquared</th><th scope=col>MAE</th><th scope=col>RMSESD</th><th scope=col>RsquaredSD</th><th scope=col>MAESD</th></tr></thead>\n",
       "<tbody>\n",
       "\t<tr><td>0.03183627 </td><td>0.9741609  </td><td>0.17336979 </td><td>0.6143909  </td><td>0.01742652 </td><td>0.024558019</td><td>0.008451061</td></tr>\n",
       "\t<tr><td>0.06597948 </td><td>0.9986146  </td><td>0.13124228 </td><td>0.6381598  </td><td>0.02226196 </td><td>0.033147736</td><td>0.026769000</td></tr>\n",
       "\t<tr><td>0.09747511 </td><td>1.0414115  </td><td>0.09152347 </td><td>0.6792751  </td><td>0.03000983 </td><td>0.002061573</td><td>0.031519464</td></tr>\n",
       "</tbody>\n",
       "</table>\n"
      ],
      "text/latex": [
       "\\begin{tabular}{r|lllllll}\n",
       " cp & RMSE & Rsquared & MAE & RMSESD & RsquaredSD & MAESD\\\\\n",
       "\\hline\n",
       "\t 0.03183627  & 0.9741609   & 0.17336979  & 0.6143909   & 0.01742652  & 0.024558019 & 0.008451061\\\\\n",
       "\t 0.06597948  & 0.9986146   & 0.13124228  & 0.6381598   & 0.02226196  & 0.033147736 & 0.026769000\\\\\n",
       "\t 0.09747511  & 1.0414115   & 0.09152347  & 0.6792751   & 0.03000983  & 0.002061573 & 0.031519464\\\\\n",
       "\\end{tabular}\n"
      ],
      "text/markdown": [
       "\n",
       "cp | RMSE | Rsquared | MAE | RMSESD | RsquaredSD | MAESD | \n",
       "|---|---|---|\n",
       "| 0.03183627  | 0.9741609   | 0.17336979  | 0.6143909   | 0.01742652  | 0.024558019 | 0.008451061 | \n",
       "| 0.06597948  | 0.9986146   | 0.13124228  | 0.6381598   | 0.02226196  | 0.033147736 | 0.026769000 | \n",
       "| 0.09747511  | 1.0414115   | 0.09152347  | 0.6792751   | 0.03000983  | 0.002061573 | 0.031519464 | \n",
       "\n",
       "\n"
      ],
      "text/plain": [
       "  cp         RMSE      Rsquared   MAE       RMSESD     RsquaredSD  MAESD      \n",
       "1 0.03183627 0.9741609 0.17336979 0.6143909 0.01742652 0.024558019 0.008451061\n",
       "2 0.06597948 0.9986146 0.13124228 0.6381598 0.02226196 0.033147736 0.026769000\n",
       "3 0.09747511 1.0414115 0.09152347 0.6792751 0.03000983 0.002061573 0.031519464"
      ]
     },
     "metadata": {},
     "output_type": "display_data"
    }
   ],
   "source": [
    "model <- train(\n",
    "  LOGVALUE ~.,data = train1,               \n",
    "    # formula for the model\n",
    "  method = \"rpart\",                           \n",
    "    # Regression Trees\n",
    "  trControl = trainControl(\n",
    "    method = \"cv\", \n",
    "    number = 5,             \n",
    "      # 5 fold cross-validatoin\n",
    "  )\n",
    ")\n",
    "\n",
    "model$results"
   ]
  },
  {
   "cell_type": "markdown",
   "metadata": {},
   "source": [
    "The penalty parameter $\\alpha$ chosen in this case is $\\approx 0.032$."
   ]
  },
  {
   "cell_type": "code",
   "execution_count": 6,
   "metadata": {},
   "outputs": [],
   "source": [
    "formula = as.formula(paste(\"LOGVALUE~\",\n",
    "            paste(colnames(train1)[1:dim(train1)[2]],collapse=\"+\")))\n",
    "\n",
    "fit_tree = rpart(formula,data=train1, control=c(cp=model$bestTune))"
   ]
  },
  {
   "cell_type": "markdown",
   "metadata": {},
   "source": [
    "We can visualize and interpret the regression tree with the following plot"
   ]
  },
  {
   "cell_type": "code",
   "execution_count": 7,
   "metadata": {},
   "outputs": [
    {
     "data": {
      "image/png": "[encoded data removed]",
      "text/plain": [
       "plot without title"
      ]
     },
     "metadata": {},
     "output_type": "display_data"
    }
   ],
   "source": [
    "rpart.plot(fit_tree)"
   ]
  },
  {
   "cell_type": "markdown",
   "metadata": {},
   "source": [
    "We see predicted (rounded) values for this tree above the frequency of those predictions. Let's see how we do on the validation set with this model."
   ]
  },
  {
   "cell_type": "code",
   "execution_count": 8,
   "metadata": {},
   "outputs": [
    {
     "name": "stdout",
     "output_type": "stream",
     "text": [
      "\n",
      "Tree RMSE:  1.086604"
     ]
    }
   ],
   "source": [
    "yhat = predict(fit_tree,val1)\n",
    "rmse = sqrt(mean((val1$LOGVALUE-yhat)^2))\n",
    "cat('\\nTree RMSE: ', rmse)"
   ]
  },
  {
   "cell_type": "markdown",
   "metadata": {},
   "source": [
    "Trees are great for interpretation, but not the best for actual prediction. The RMSE we got is worse than the linear models we estimated in the previous module.\n",
    "\n",
    "One idea that is common in machine learning is to combine weak learners together and produce an ensemble. When one does this with trees the method is known as random forests.\n",
    "\n",
    "The basic idea is combine many shallow trees with only a subset of the covariates and average the predictions. Let's try it out!"
   ]
  },
  {
   "cell_type": "code",
   "execution_count": 9,
   "metadata": {},
   "outputs": [],
   "source": [
    "rf_grid = expand.grid(mtry = c(5, 10, 15), \n",
    "          splitrule = c(\"variance\"), min.node.size=c(5))\n",
    "fit_forest = train(formula,\n",
    "                   data = train1, \n",
    "                   method = 'ranger',\n",
    "                   trControl = \n",
    "                   trainControl(method = 'cv',\n",
    "                                number = 5),\n",
    "                   tuneGrid = rf_grid, \n",
    "                   num.trees=10\n",
    "                  )"
   ]
  },
  {
   "cell_type": "code",
   "execution_count": 10,
   "metadata": {},
   "outputs": [
    {
     "data": {
      "text/html": [
       "<table>\n",
       "<thead><tr><th scope=col>mtry</th><th scope=col>splitrule</th><th scope=col>min.node.size</th><th scope=col>RMSE</th><th scope=col>Rsquared</th><th scope=col>MAE</th><th scope=col>RMSESD</th><th scope=col>RsquaredSD</th><th scope=col>MAESD</th></tr></thead>\n",
       "<tbody>\n",
       "\t<tr><td> 5         </td><td>variance   </td><td>5          </td><td>0.8416696  </td><td>0.3840645  </td><td>0.5010820  </td><td>0.03172367 </td><td>0.01575172 </td><td>0.007301056</td></tr>\n",
       "\t<tr><td>10         </td><td>variance   </td><td>5          </td><td>0.8429754  </td><td>0.3818747  </td><td>0.4989303  </td><td>0.02899679 </td><td>0.01553277 </td><td>0.006370934</td></tr>\n",
       "\t<tr><td>15         </td><td>variance   </td><td>5          </td><td>0.8431393  </td><td>0.3833763  </td><td>0.5003073  </td><td>0.03158785 </td><td>0.02073955 </td><td>0.007543335</td></tr>\n",
       "</tbody>\n",
       "</table>\n"
      ],
      "text/latex": [
       "\\begin{tabular}{r|lllllllll}\n",
       " mtry & splitrule & min.node.size & RMSE & Rsquared & MAE & RMSESD & RsquaredSD & MAESD\\\\\n",
       "\\hline\n",
       "\t  5          & variance    & 5           & 0.8416696   & 0.3840645   & 0.5010820   & 0.03172367  & 0.01575172  & 0.007301056\\\\\n",
       "\t 10          & variance    & 5           & 0.8429754   & 0.3818747   & 0.4989303   & 0.02899679  & 0.01553277  & 0.006370934\\\\\n",
       "\t 15          & variance    & 5           & 0.8431393   & 0.3833763   & 0.5003073   & 0.03158785  & 0.02073955  & 0.007543335\\\\\n",
       "\\end{tabular}\n"
      ],
      "text/markdown": [
       "\n",
       "mtry | splitrule | min.node.size | RMSE | Rsquared | MAE | RMSESD | RsquaredSD | MAESD | \n",
       "|---|---|---|\n",
       "|  5          | variance    | 5           | 0.8416696   | 0.3840645   | 0.5010820   | 0.03172367  | 0.01575172  | 0.007301056 | \n",
       "| 10          | variance    | 5           | 0.8429754   | 0.3818747   | 0.4989303   | 0.02899679  | 0.01553277  | 0.006370934 | \n",
       "| 15          | variance    | 5           | 0.8431393   | 0.3833763   | 0.5003073   | 0.03158785  | 0.02073955  | 0.007543335 | \n",
       "\n",
       "\n"
      ],
      "text/plain": [
       "  mtry splitrule min.node.size RMSE      Rsquared  MAE       RMSESD    \n",
       "1  5   variance  5             0.8416696 0.3840645 0.5010820 0.03172367\n",
       "2 10   variance  5             0.8429754 0.3818747 0.4989303 0.02899679\n",
       "3 15   variance  5             0.8431393 0.3833763 0.5003073 0.03158785\n",
       "  RsquaredSD MAESD      \n",
       "1 0.01575172 0.007301056\n",
       "2 0.01553277 0.006370934\n",
       "3 0.02073955 0.007543335"
      ]
     },
     "metadata": {},
     "output_type": "display_data"
    }
   ],
   "source": [
    "fit_forest$results"
   ]
  },
  {
   "cell_type": "markdown",
   "metadata": {},
   "source": [
    "Even with only 10 trees the results are improved!"
   ]
  },
  {
   "cell_type": "markdown",
   "metadata": {},
   "source": [
    "EXERCISE:\n",
    "\n",
    "Grow forests with 100 trees and use caret to tune the maximum number of covariates. Do your results improve?"
   ]
  }
 ],
 "metadata": {
  "kernelspec": {
   "display_name": "R",
   "language": "R",
   "name": "ir"
  },
  "language_info": {
   "codemirror_mode": "r",
   "file_extension": ".r",
   "mimetype": "text/x-r-source",
   "name": "R",
   "pygments_lexer": "r",
   "version": "3.4.2"
  }
 },
 "nbformat": 4,
 "nbformat_minor": 2
}
